{
  "cells": [
    {
      "cell_type": "markdown",
      "metadata": {
        "id": "view-in-github",
        "colab_type": "text"
      },
      "source": [
        "<a href=\"https://colab.research.google.com/github/moriomchi/DeepfakeDetection/blob/main/EfficientNetDeepfakeDetection.ipynb\" target=\"_parent\"><img src=\"https://colab.research.google.com/assets/colab-badge.svg\" alt=\"Open In Colab\"/></a>"
      ]
    },
    {
      "cell_type": "markdown",
      "metadata": {
        "id": "YJhQ2lepWuxS"
      },
      "source": [
        "# Downloading The Dataset"
      ]
    },
    {
      "cell_type": "code",
      "execution_count": null,
      "metadata": {
        "colab": {
          "base_uri": "https://localhost:8080/"
        },
        "id": "wPbXP9gZWr5X",
        "outputId": "f2c41616-9f9e-4ff4-e092-e1b406893538"
      },
      "outputs": [
        {
          "name": "stdout",
          "output_type": "stream",
          "text": [
            "Requirement already satisfied: kaggle in /usr/local/lib/python3.10/dist-packages (1.6.17)\n",
            "Requirement already satisfied: six>=1.10 in /usr/local/lib/python3.10/dist-packages (from kaggle) (1.17.0)\n",
            "Requirement already satisfied: certifi>=2023.7.22 in /usr/local/lib/python3.10/dist-packages (from kaggle) (2024.12.14)\n",
            "Requirement already satisfied: python-dateutil in /usr/local/lib/python3.10/dist-packages (from kaggle) (2.8.2)\n",
            "Requirement already satisfied: requests in /usr/local/lib/python3.10/dist-packages (from kaggle) (2.32.3)\n",
            "Requirement already satisfied: tqdm in /usr/local/lib/python3.10/dist-packages (from kaggle) (4.67.1)\n",
            "Requirement already satisfied: python-slugify in /usr/local/lib/python3.10/dist-packages (from kaggle) (8.0.4)\n",
            "Requirement already satisfied: urllib3 in /usr/local/lib/python3.10/dist-packages (from kaggle) (2.2.3)\n",
            "Requirement already satisfied: bleach in /usr/local/lib/python3.10/dist-packages (from kaggle) (6.2.0)\n",
            "Requirement already satisfied: webencodings in /usr/local/lib/python3.10/dist-packages (from bleach->kaggle) (0.5.1)\n",
            "Requirement already satisfied: text-unidecode>=1.3 in /usr/local/lib/python3.10/dist-packages (from python-slugify->kaggle) (1.3)\n",
            "Requirement already satisfied: charset-normalizer<4,>=2 in /usr/local/lib/python3.10/dist-packages (from requests->kaggle) (3.4.0)\n",
            "Requirement already satisfied: idna<4,>=2.5 in /usr/local/lib/python3.10/dist-packages (from requests->kaggle) (3.10)\n"
          ]
        }
      ],
      "source": [
        "# installing kaggle API\n",
        "!pip install kaggle\n"
      ]
    },
    {
      "cell_type": "code",
      "execution_count": null,
      "metadata": {
        "colab": {
          "base_uri": "https://localhost:8080/"
        },
        "id": "hkCdloxLW3GX",
        "outputId": "0eb18196-afb5-4bda-99bd-af3c96631669"
      },
      "outputs": [
        {
          "output_type": "stream",
          "name": "stdout",
          "text": [
            "Mounted at /content/drive\n"
          ]
        }
      ],
      "source": [
        "#mounting google drive\n",
        "from google.colab import drive\n",
        "drive.mount('/content/drive')\n",
        "\n"
      ]
    },
    {
      "cell_type": "code",
      "execution_count": null,
      "metadata": {
        "id": "RzlxGhZuXDcy"
      },
      "outputs": [],
      "source": [
        "base_drive_path = \"/content/drive/My Drive/deepfake_project\"\n",
        "dataset_path = f\"{base_drive_path}/train_sample_videos\"\n",
        "metadata_path = f\"{dataset_path}/metadata.json\"\n",
        "real_path = f\"{base_drive_path}/real_videos\"\n",
        "fake_path = f\"{base_drive_path}/fake_videos\"\n",
        "#subset of data to be processed:\n",
        "small_real_path = f\"{base_drive_path}/small_real_videos\"\n",
        "small_fake_path = f\"{base_drive_path}/small_fake_videos\"\n",
        "ssim_output_dir = f\"{base_drive_path}/ssim_masks\"\n"
      ]
    },
    {
      "cell_type": "code",
      "execution_count": null,
      "metadata": {
        "id": "YTE8-XJqa-8r"
      },
      "outputs": [],
      "source": [
        "#making the directories:\n",
        "import os\n",
        "\n",
        "os.makedirs(real_path, exist_ok=True)\n",
        "os.makedirs(fake_path, exist_ok=True)\n",
        "os.makedirs(small_real_path, exist_ok=True)\n",
        "os.makedirs(small_fake_path, exist_ok=True)\n",
        "os.makedirs(ssim_output_dir, exist_ok=True)\n"
      ]
    },
    {
      "cell_type": "code",
      "execution_count": null,
      "metadata": {
        "colab": {
          "base_uri": "https://localhost:8080/"
        },
        "id": "53YPf7GPbGpi",
        "outputId": "06cf8fc4-d150-458f-dbdf-fd3db2eff4e0"
      },
      "outputs": [
        {
          "name": "stdout",
          "output_type": "stream",
          "text": [
            "Requirement already satisfied: kaggle in /usr/local/lib/python3.10/dist-packages (1.6.17)\n",
            "Requirement already satisfied: six>=1.10 in /usr/local/lib/python3.10/dist-packages (from kaggle) (1.17.0)\n",
            "Requirement already satisfied: certifi>=2023.7.22 in /usr/local/lib/python3.10/dist-packages (from kaggle) (2024.12.14)\n",
            "Requirement already satisfied: python-dateutil in /usr/local/lib/python3.10/dist-packages (from kaggle) (2.8.2)\n",
            "Requirement already satisfied: requests in /usr/local/lib/python3.10/dist-packages (from kaggle) (2.32.3)\n",
            "Requirement already satisfied: tqdm in /usr/local/lib/python3.10/dist-packages (from kaggle) (4.67.1)\n",
            "Requirement already satisfied: python-slugify in /usr/local/lib/python3.10/dist-packages (from kaggle) (8.0.4)\n",
            "Requirement already satisfied: urllib3 in /usr/local/lib/python3.10/dist-packages (from kaggle) (2.2.3)\n",
            "Requirement already satisfied: bleach in /usr/local/lib/python3.10/dist-packages (from kaggle) (6.2.0)\n",
            "Requirement already satisfied: webencodings in /usr/local/lib/python3.10/dist-packages (from bleach->kaggle) (0.5.1)\n",
            "Requirement already satisfied: text-unidecode>=1.3 in /usr/local/lib/python3.10/dist-packages (from python-slugify->kaggle) (1.3)\n",
            "Requirement already satisfied: charset-normalizer<4,>=2 in /usr/local/lib/python3.10/dist-packages (from requests->kaggle) (3.4.0)\n",
            "Requirement already satisfied: idna<4,>=2.5 in /usr/local/lib/python3.10/dist-packages (from requests->kaggle) (3.10)\n"
          ]
        }
      ],
      "source": [
        "#installing kaggle API\n",
        "!pip install kaggle\n"
      ]
    },
    {
      "cell_type": "code",
      "execution_count": null,
      "metadata": {
        "colab": {
          "base_uri": "https://localhost:8080/",
          "height": 92
        },
        "id": "Z5Gpl1zxbVUh",
        "outputId": "1709a637-a6a7-4423-c4d2-a59b98a68e79"
      },
      "outputs": [
        {
          "data": {
            "text/html": [
              "\n",
              "     <input type=\"file\" id=\"files-b170c224-0e9e-4d69-86c0-1637a2f5c234\" name=\"files[]\" multiple disabled\n",
              "        style=\"border:none\" />\n",
              "     <output id=\"result-b170c224-0e9e-4d69-86c0-1637a2f5c234\">\n",
              "      Upload widget is only available when the cell has been executed in the\n",
              "      current browser session. Please rerun this cell to enable.\n",
              "      </output>\n",
              "      <script>// Copyright 2017 Google LLC\n",
              "//\n",
              "// Licensed under the Apache License, Version 2.0 (the \"License\");\n",
              "// you may not use this file except in compliance with the License.\n",
              "// You may obtain a copy of the License at\n",
              "//\n",
              "//      http://www.apache.org/licenses/LICENSE-2.0\n",
              "//\n",
              "// Unless required by applicable law or agreed to in writing, software\n",
              "// distributed under the License is distributed on an \"AS IS\" BASIS,\n",
              "// WITHOUT WARRANTIES OR CONDITIONS OF ANY KIND, either express or implied.\n",
              "// See the License for the specific language governing permissions and\n",
              "// limitations under the License.\n",
              "\n",
              "/**\n",
              " * @fileoverview Helpers for google.colab Python module.\n",
              " */\n",
              "(function(scope) {\n",
              "function span(text, styleAttributes = {}) {\n",
              "  const element = document.createElement('span');\n",
              "  element.textContent = text;\n",
              "  for (const key of Object.keys(styleAttributes)) {\n",
              "    element.style[key] = styleAttributes[key];\n",
              "  }\n",
              "  return element;\n",
              "}\n",
              "\n",
              "// Max number of bytes which will be uploaded at a time.\n",
              "const MAX_PAYLOAD_SIZE = 100 * 1024;\n",
              "\n",
              "function _uploadFiles(inputId, outputId) {\n",
              "  const steps = uploadFilesStep(inputId, outputId);\n",
              "  const outputElement = document.getElementById(outputId);\n",
              "  // Cache steps on the outputElement to make it available for the next call\n",
              "  // to uploadFilesContinue from Python.\n",
              "  outputElement.steps = steps;\n",
              "\n",
              "  return _uploadFilesContinue(outputId);\n",
              "}\n",
              "\n",
              "// This is roughly an async generator (not supported in the browser yet),\n",
              "// where there are multiple asynchronous steps and the Python side is going\n",
              "// to poll for completion of each step.\n",
              "// This uses a Promise to block the python side on completion of each step,\n",
              "// then passes the result of the previous step as the input to the next step.\n",
              "function _uploadFilesContinue(outputId) {\n",
              "  const outputElement = document.getElementById(outputId);\n",
              "  const steps = outputElement.steps;\n",
              "\n",
              "  const next = steps.next(outputElement.lastPromiseValue);\n",
              "  return Promise.resolve(next.value.promise).then((value) => {\n",
              "    // Cache the last promise value to make it available to the next\n",
              "    // step of the generator.\n",
              "    outputElement.lastPromiseValue = value;\n",
              "    return next.value.response;\n",
              "  });\n",
              "}\n",
              "\n",
              "/**\n",
              " * Generator function which is called between each async step of the upload\n",
              " * process.\n",
              " * @param {string} inputId Element ID of the input file picker element.\n",
              " * @param {string} outputId Element ID of the output display.\n",
              " * @return {!Iterable<!Object>} Iterable of next steps.\n",
              " */\n",
              "function* uploadFilesStep(inputId, outputId) {\n",
              "  const inputElement = document.getElementById(inputId);\n",
              "  inputElement.disabled = false;\n",
              "\n",
              "  const outputElement = document.getElementById(outputId);\n",
              "  outputElement.innerHTML = '';\n",
              "\n",
              "  const pickedPromise = new Promise((resolve) => {\n",
              "    inputElement.addEventListener('change', (e) => {\n",
              "      resolve(e.target.files);\n",
              "    });\n",
              "  });\n",
              "\n",
              "  const cancel = document.createElement('button');\n",
              "  inputElement.parentElement.appendChild(cancel);\n",
              "  cancel.textContent = 'Cancel upload';\n",
              "  const cancelPromise = new Promise((resolve) => {\n",
              "    cancel.onclick = () => {\n",
              "      resolve(null);\n",
              "    };\n",
              "  });\n",
              "\n",
              "  // Wait for the user to pick the files.\n",
              "  const files = yield {\n",
              "    promise: Promise.race([pickedPromise, cancelPromise]),\n",
              "    response: {\n",
              "      action: 'starting',\n",
              "    }\n",
              "  };\n",
              "\n",
              "  cancel.remove();\n",
              "\n",
              "  // Disable the input element since further picks are not allowed.\n",
              "  inputElement.disabled = true;\n",
              "\n",
              "  if (!files) {\n",
              "    return {\n",
              "      response: {\n",
              "        action: 'complete',\n",
              "      }\n",
              "    };\n",
              "  }\n",
              "\n",
              "  for (const file of files) {\n",
              "    const li = document.createElement('li');\n",
              "    li.append(span(file.name, {fontWeight: 'bold'}));\n",
              "    li.append(span(\n",
              "        `(${file.type || 'n/a'}) - ${file.size} bytes, ` +\n",
              "        `last modified: ${\n",
              "            file.lastModifiedDate ? file.lastModifiedDate.toLocaleDateString() :\n",
              "                                    'n/a'} - `));\n",
              "    const percent = span('0% done');\n",
              "    li.appendChild(percent);\n",
              "\n",
              "    outputElement.appendChild(li);\n",
              "\n",
              "    const fileDataPromise = new Promise((resolve) => {\n",
              "      const reader = new FileReader();\n",
              "      reader.onload = (e) => {\n",
              "        resolve(e.target.result);\n",
              "      };\n",
              "      reader.readAsArrayBuffer(file);\n",
              "    });\n",
              "    // Wait for the data to be ready.\n",
              "    let fileData = yield {\n",
              "      promise: fileDataPromise,\n",
              "      response: {\n",
              "        action: 'continue',\n",
              "      }\n",
              "    };\n",
              "\n",
              "    // Use a chunked sending to avoid message size limits. See b/62115660.\n",
              "    let position = 0;\n",
              "    do {\n",
              "      const length = Math.min(fileData.byteLength - position, MAX_PAYLOAD_SIZE);\n",
              "      const chunk = new Uint8Array(fileData, position, length);\n",
              "      position += length;\n",
              "\n",
              "      const base64 = btoa(String.fromCharCode.apply(null, chunk));\n",
              "      yield {\n",
              "        response: {\n",
              "          action: 'append',\n",
              "          file: file.name,\n",
              "          data: base64,\n",
              "        },\n",
              "      };\n",
              "\n",
              "      let percentDone = fileData.byteLength === 0 ?\n",
              "          100 :\n",
              "          Math.round((position / fileData.byteLength) * 100);\n",
              "      percent.textContent = `${percentDone}% done`;\n",
              "\n",
              "    } while (position < fileData.byteLength);\n",
              "  }\n",
              "\n",
              "  // All done.\n",
              "  yield {\n",
              "    response: {\n",
              "      action: 'complete',\n",
              "    }\n",
              "  };\n",
              "}\n",
              "\n",
              "scope.google = scope.google || {};\n",
              "scope.google.colab = scope.google.colab || {};\n",
              "scope.google.colab._files = {\n",
              "  _uploadFiles,\n",
              "  _uploadFilesContinue,\n",
              "};\n",
              "})(self);\n",
              "</script> "
            ],
            "text/plain": [
              "<IPython.core.display.HTML object>"
            ]
          },
          "metadata": {},
          "output_type": "display_data"
        },
        {
          "name": "stdout",
          "output_type": "stream",
          "text": [
            "Saving kaggle.json to kaggle.json\n"
          ]
        },
        {
          "data": {
            "text/plain": [
              "{'kaggle.json': b'{\"username\":\"mariamasfcef\",\"key\":\"86ccbc28d2fd75147f8cf66b25228656\"}'}"
            ]
          },
          "execution_count": 7,
          "metadata": {},
          "output_type": "execute_result"
        }
      ],
      "source": [
        "#uploading kaggle.json\n",
        "from google.colab import files\n",
        "files.upload()\n"
      ]
    },
    {
      "cell_type": "code",
      "execution_count": null,
      "metadata": {
        "id": "Yp96o-APbjAV"
      },
      "outputs": [],
      "source": [
        "#configuring kaggle\n",
        "!mkdir ~/.kaggle\n",
        "!mv kaggle.json ~/.kaggle/\n",
        "!chmod 600 ~/.kaggle/kaggle.json\n"
      ]
    },
    {
      "cell_type": "code",
      "execution_count": null,
      "metadata": {
        "colab": {
          "base_uri": "https://localhost:8080/"
        },
        "id": "5fdcbnxtboCx",
        "outputId": "00911211-2b64-473f-b824-57578382bd53"
      },
      "outputs": [
        {
          "name": "stdout",
          "output_type": "stream",
          "text": [
            "deepfake-detection-challenge.zip: Skipping, found more recently modified local copy (use --force to force download)\n"
          ]
        }
      ],
      "source": [
        "#downloading the DFDC dataset:\n",
        "!kaggle competitions download -c deepfake-detection-challenge\n"
      ]
    },
    {
      "cell_type": "code",
      "execution_count": null,
      "metadata": {
        "id": "UinzXgure_ng"
      },
      "outputs": [],
      "source": [
        "dataset_path = \"/content/drive/My Drive/deepfake_project\"\n",
        "os.makedirs(dataset_path, exist_ok=True)"
      ]
    },
    {
      "cell_type": "code",
      "execution_count": null,
      "metadata": {
        "colab": {
          "base_uri": "https://localhost:8080/"
        },
        "id": "F7UJ7LB3fx1S",
        "outputId": "cd978862-bd6e-4370-c591-81be9b92ac50"
      },
      "outputs": [
        {
          "name": "stdout",
          "output_type": "stream",
          "text": [
            "Archive:  deepfake-detection-challenge.zip\n",
            "  inflating: /content/drive/My Drive/deepfake_project/sample_submission.csv  \n",
            "  inflating: /content/drive/My Drive/deepfake_project/test_videos/aassnaulhq.mp4  \n",
            "  inflating: /content/drive/My Drive/deepfake_project/test_videos/aayfryxljh.mp4  \n",
            "  inflating: /content/drive/My Drive/deepfake_project/test_videos/acazlolrpz.mp4  \n",
            "  inflating: /content/drive/My Drive/deepfake_project/test_videos/adohdulfwb.mp4  \n",
            "  inflating: /content/drive/My Drive/deepfake_project/test_videos/ahjnxtiamx.mp4  \n",
            "  inflating: /content/drive/My Drive/deepfake_project/test_videos/ajiyrjfyzp.mp4  \n",
            "  inflating: /content/drive/My Drive/deepfake_project/test_videos/aktnlyqpah.mp4  \n",
            "  inflating: /content/drive/My Drive/deepfake_project/test_videos/alrtntfxtd.mp4  \n",
            "  inflating: /content/drive/My Drive/deepfake_project/test_videos/aomqqjipcp.mp4  \n",
            "  inflating: /content/drive/My Drive/deepfake_project/test_videos/apedduehoy.mp4  \n",
            "  inflating: /content/drive/My Drive/deepfake_project/test_videos/apvzjkvnwn.mp4  \n",
            "  inflating: /content/drive/My Drive/deepfake_project/test_videos/aqrsylrzgi.mp4  \n",
            "  inflating: /content/drive/My Drive/deepfake_project/test_videos/axfhbpkdlc.mp4  \n",
            "  inflating: /content/drive/My Drive/deepfake_project/test_videos/ayipraspbn.mp4  \n",
            "  inflating: /content/drive/My Drive/deepfake_project/test_videos/bcbqxhziqz.mp4  \n",
            "  inflating: /content/drive/My Drive/deepfake_project/test_videos/bcvheslzrq.mp4  \n",
            "  inflating: /content/drive/My Drive/deepfake_project/test_videos/bdshuoldwx.mp4  \n",
            "  inflating: /content/drive/My Drive/deepfake_project/test_videos/bfdopzvxbi.mp4  \n",
            "  inflating: /content/drive/My Drive/deepfake_project/test_videos/bfjsthfhbd.mp4  \n",
            "  inflating: /content/drive/My Drive/deepfake_project/test_videos/bjyaxvggle.mp4  \n",
            "  inflating: /content/drive/My Drive/deepfake_project/test_videos/bkcyglmfci.mp4  \n",
            "  inflating: /content/drive/My Drive/deepfake_project/test_videos/bktkwbcawi.mp4  \n",
            "  inflating: /content/drive/My Drive/deepfake_project/test_videos/bkuzquigyt.mp4  \n",
            "  inflating: /content/drive/My Drive/deepfake_project/test_videos/blnmxntbey.mp4  \n",
            "  inflating: /content/drive/My Drive/deepfake_project/test_videos/blszgmxkvu.mp4  \n",
            "  inflating: /content/drive/My Drive/deepfake_project/test_videos/bnuwxhfahw.mp4  \n",
            "  inflating: /content/drive/My Drive/deepfake_project/test_videos/bofrwgeyjo.mp4  \n",
            "  inflating: /content/drive/My Drive/deepfake_project/test_videos/btdxnajogv.mp4  \n",
            "  inflating: /content/drive/My Drive/deepfake_project/test_videos/bvpeerislp.mp4  \n",
            "  inflating: /content/drive/My Drive/deepfake_project/test_videos/bwdmzwhdnw.mp4  \n",
            "  inflating: /content/drive/My Drive/deepfake_project/test_videos/bzvzpwrabw.mp4  \n",
            "  inflating: /content/drive/My Drive/deepfake_project/test_videos/cekarydqba.mp4  \n",
            "  inflating: /content/drive/My Drive/deepfake_project/test_videos/cekwtyxdoo.mp4  \n",
            "  inflating: /content/drive/My Drive/deepfake_project/test_videos/cjkctqqakb.mp4  \n",
            "  inflating: /content/drive/My Drive/deepfake_project/test_videos/cnpanmywno.mp4  \n",
            "  inflating: /content/drive/My Drive/deepfake_project/test_videos/cnxccbjlct.mp4  \n",
            "  inflating: /content/drive/My Drive/deepfake_project/test_videos/coqwgzpbhx.mp4  \n",
            "  inflating: /content/drive/My Drive/deepfake_project/test_videos/cosghhimnd.mp4  \n",
            "  inflating: /content/drive/My Drive/deepfake_project/test_videos/coujjnypba.mp4  \n",
            "  inflating: /content/drive/My Drive/deepfake_project/test_videos/cqhwesrciw.mp4  \n",
            "  inflating: /content/drive/My Drive/deepfake_project/test_videos/cqxxumarvp.mp4  \n",
            "  inflating: /content/drive/My Drive/deepfake_project/test_videos/csnkohqxdv.mp4  \n",
            "  inflating: /content/drive/My Drive/deepfake_project/test_videos/cxsvvnxpyz.mp4  \n",
            "  inflating: /content/drive/My Drive/deepfake_project/test_videos/czfqlbcfpa.mp4  \n",
            "  inflating: /content/drive/My Drive/deepfake_project/test_videos/dcqodpzomd.mp4  \n",
            "  inflating: /content/drive/My Drive/deepfake_project/test_videos/ddtbarpcgo.mp4  \n",
            "  inflating: /content/drive/My Drive/deepfake_project/test_videos/demuhxssgl.mp4  \n",
            "  inflating: /content/drive/My Drive/deepfake_project/test_videos/didzujjhtg.mp4  \n",
            "  inflating: /content/drive/My Drive/deepfake_project/test_videos/dkuqbduxev.mp4  \n",
            "  inflating: /content/drive/My Drive/deepfake_project/test_videos/dmmvuaikkv.mp4  \n",
            "  inflating: /content/drive/My Drive/deepfake_project/test_videos/dnmowthjcj.mp4  \n",
            "  inflating: /content/drive/My Drive/deepfake_project/test_videos/doniqevxeg.mp4  \n",
            "  inflating: /content/drive/My Drive/deepfake_project/test_videos/dozjwhnedd.mp4  \n",
            "  inflating: /content/drive/My Drive/deepfake_project/test_videos/dpevefkefv.mp4  \n",
            "  inflating: /content/drive/My Drive/deepfake_project/test_videos/dpmgoiwhuf.mp4  \n",
            "  inflating: /content/drive/My Drive/deepfake_project/test_videos/dsnxgrfdmd.mp4  \n",
            "  inflating: /content/drive/My Drive/deepfake_project/test_videos/dtozwcapoa.mp4  \n",
            "  inflating: /content/drive/My Drive/deepfake_project/test_videos/dvkdfhrpph.mp4  \n",
            "  inflating: /content/drive/My Drive/deepfake_project/test_videos/dvtpwatuja.mp4  \n",
            "  inflating: /content/drive/My Drive/deepfake_project/test_videos/dvwpvqdflx.mp4  \n",
            "  inflating: /content/drive/My Drive/deepfake_project/test_videos/dxfdovivlw.mp4  \n",
            "  inflating: /content/drive/My Drive/deepfake_project/test_videos/dxgnpnowgk.mp4  \n",
            "  inflating: /content/drive/My Drive/deepfake_project/test_videos/dyjklprkoc.mp4  \n",
            "  inflating: /content/drive/My Drive/deepfake_project/test_videos/dzkyxbbqkr.mp4  \n",
            "  inflating: /content/drive/My Drive/deepfake_project/test_videos/dzojiwfvba.mp4  \n",
            "  inflating: /content/drive/My Drive/deepfake_project/test_videos/ecumyiowzs.mp4  \n",
            "  inflating: /content/drive/My Drive/deepfake_project/test_videos/eisofhptvk.mp4  \n",
            "  inflating: /content/drive/My Drive/deepfake_project/test_videos/ekboxwrwuv.mp4  \n",
            "  inflating: /content/drive/My Drive/deepfake_project/test_videos/ekelfsnqof.mp4  \n",
            "  inflating: /content/drive/My Drive/deepfake_project/test_videos/ekvwecwltj.mp4  \n",
            "  inflating: /content/drive/My Drive/deepfake_project/test_videos/elackxuccp.mp4  \n",
            "  inflating: /content/drive/My Drive/deepfake_project/test_videos/eppyqpgewp.mp4  \n",
            "  inflating: /content/drive/My Drive/deepfake_project/test_videos/eqslzbqfea.mp4  \n",
            "  inflating: /content/drive/My Drive/deepfake_project/test_videos/eryjktdexi.mp4  \n",
            "  inflating: /content/drive/My Drive/deepfake_project/test_videos/esjdyghhog.mp4  \n",
            "  inflating: /content/drive/My Drive/deepfake_project/test_videos/esmqxszybs.mp4  \n",
            "  inflating: /content/drive/My Drive/deepfake_project/test_videos/espkiocpxq.mp4  \n",
            "  inflating: /content/drive/My Drive/deepfake_project/test_videos/etdliwticv.mp4  \n",
            "  inflating: /content/drive/My Drive/deepfake_project/test_videos/evysmtpnrf.mp4  \n",
            "  inflating: /content/drive/My Drive/deepfake_project/test_videos/eyguqfmgzh.mp4  \n",
            "  inflating: /content/drive/My Drive/deepfake_project/test_videos/eywdmustbb.mp4  \n",
            "  inflating: /content/drive/My Drive/deepfake_project/test_videos/famlupsgqm.mp4  \n",
            "  inflating: /content/drive/My Drive/deepfake_project/test_videos/fddmkqjwsh.mp4  \n",
            "  inflating: /content/drive/My Drive/deepfake_project/test_videos/fjrueenjyp.mp4  \n",
            "  inflating: /content/drive/My Drive/deepfake_project/test_videos/fjxovgmwnm.mp4  \n",
            "  inflating: /content/drive/My Drive/deepfake_project/test_videos/fmhiujydwo.mp4  \n",
            "  inflating: /content/drive/My Drive/deepfake_project/test_videos/fmvvmcbdrw.mp4  \n",
            "  inflating: /content/drive/My Drive/deepfake_project/test_videos/fneqiqpqvs.mp4  \n",
            "  inflating: /content/drive/My Drive/deepfake_project/test_videos/fnxgqcvlsd.mp4  \n",
            "  inflating: /content/drive/My Drive/deepfake_project/test_videos/fopjiyxiqd.mp4  \n",
            "  inflating: /content/drive/My Drive/deepfake_project/test_videos/fpevfidstw.mp4  \n",
            "  inflating: /content/drive/My Drive/deepfake_project/test_videos/fqgypsunzr.mp4  \n",
            "  inflating: /content/drive/My Drive/deepfake_project/test_videos/frqfsucgao.mp4  \n",
            "  inflating: /content/drive/My Drive/deepfake_project/test_videos/fsdrwikhge.mp4  \n",
            "  inflating: /content/drive/My Drive/deepfake_project/test_videos/fwykevubzy.mp4  \n",
            "  inflating: /content/drive/My Drive/deepfake_project/test_videos/fxuxxtryjn.mp4  \n",
            "  inflating: /content/drive/My Drive/deepfake_project/test_videos/fzvpbrzssi.mp4  \n",
            "  inflating: /content/drive/My Drive/deepfake_project/test_videos/gahgyuwzbu.mp4  \n",
            "  inflating: /content/drive/My Drive/deepfake_project/test_videos/gbnzicjyhz.mp4  \n",
            "  inflating: /content/drive/My Drive/deepfake_project/test_videos/gccnvdoknm.mp4  \n",
            "  inflating: /content/drive/My Drive/deepfake_project/test_videos/gcdtglsoqj.mp4  \n",
            "  inflating: /content/drive/My Drive/deepfake_project/test_videos/gfcycflhbo.mp4  \n",
            "  inflating: /content/drive/My Drive/deepfake_project/test_videos/gfdjzwnpyp.mp4  \n",
            "  inflating: /content/drive/My Drive/deepfake_project/test_videos/gfgcwxkbjd.mp4  \n",
            "  inflating: /content/drive/My Drive/deepfake_project/test_videos/ggdpclfcgk.mp4  \n",
            "  inflating: /content/drive/My Drive/deepfake_project/test_videos/ggzjfrirjh.mp4  \n",
            "  inflating: /content/drive/My Drive/deepfake_project/test_videos/ghnpsltzyn.mp4  \n",
            "  inflating: /content/drive/My Drive/deepfake_project/test_videos/gkutjglghz.mp4  \n",
            "  inflating: /content/drive/My Drive/deepfake_project/test_videos/gochxzemmq.mp4  \n",
            "  inflating: /content/drive/My Drive/deepfake_project/test_videos/gpsxfxrjrr.mp4  \n",
            "  inflating: /content/drive/My Drive/deepfake_project/test_videos/gqnaxievjx.mp4  \n",
            "  inflating: /content/drive/My Drive/deepfake_project/test_videos/gunamloolc.mp4  \n",
            "  inflating: /content/drive/My Drive/deepfake_project/test_videos/halvwiltfs.mp4  \n",
            "  inflating: /content/drive/My Drive/deepfake_project/test_videos/hbufmvbium.mp4  \n",
            "  inflating: /content/drive/My Drive/deepfake_project/test_videos/hcanfkwivl.mp4  \n",
            "  inflating: /content/drive/My Drive/deepfake_project/test_videos/hclsparpth.mp4  \n",
            "  inflating: /content/drive/My Drive/deepfake_project/test_videos/hefisnapds.mp4  \n",
            "  inflating: /content/drive/My Drive/deepfake_project/test_videos/heiyoojifp.mp4  \n",
            "  inflating: /content/drive/My Drive/deepfake_project/test_videos/hevcclcklc.mp4  \n",
            "  inflating: /content/drive/My Drive/deepfake_project/test_videos/hfsvqabzfq.mp4  \n",
            "  inflating: /content/drive/My Drive/deepfake_project/test_videos/hicjuubiau.mp4  \n",
            "  inflating: /content/drive/My Drive/deepfake_project/test_videos/hierggamuo.mp4  \n",
            "  inflating: /content/drive/My Drive/deepfake_project/test_videos/hitfycdavv.mp4  \n",
            "  inflating: /content/drive/My Drive/deepfake_project/test_videos/hnfwagcxdf.mp4  \n",
            "  inflating: /content/drive/My Drive/deepfake_project/test_videos/honxqdilvv.mp4  \n",
            "  inflating: /content/drive/My Drive/deepfake_project/test_videos/hqzwudvhih.mp4  \n",
            "  inflating: /content/drive/My Drive/deepfake_project/test_videos/hsbljbsgxr.mp4  \n",
            "  inflating: /content/drive/My Drive/deepfake_project/test_videos/hsbwhlolsn.mp4  \n",
            "  inflating: /content/drive/My Drive/deepfake_project/test_videos/hszwwswewp.mp4  \n",
            "  inflating: /content/drive/My Drive/deepfake_project/test_videos/htzbnroagi.mp4  \n",
            "  inflating: /content/drive/My Drive/deepfake_project/test_videos/huvlwkxoxm.mp4  \n",
            "  inflating: /content/drive/My Drive/deepfake_project/test_videos/hweshqpfwe.mp4  \n",
            "  inflating: /content/drive/My Drive/deepfake_project/test_videos/hxwtsaydal.mp4  \n",
            "  inflating: /content/drive/My Drive/deepfake_project/test_videos/hyjqolupxn.mp4  \n",
            "  inflating: /content/drive/My Drive/deepfake_project/test_videos/hzoiotcykp.mp4  \n",
            "  inflating: /content/drive/My Drive/deepfake_project/test_videos/hzssdinxec.mp4  \n",
            "  inflating: /content/drive/My Drive/deepfake_project/test_videos/ibxfxggtqh.mp4  \n",
            "  inflating: /content/drive/My Drive/deepfake_project/test_videos/icbsahlivv.mp4  \n",
            "  inflating: /content/drive/My Drive/deepfake_project/test_videos/igpvrfjdzc.mp4  \n",
            "  inflating: /content/drive/My Drive/deepfake_project/test_videos/ihglzxzroo.mp4  \n",
            "  inflating: /content/drive/My Drive/deepfake_project/test_videos/iksxzpqxzi.mp4  \n",
            "  inflating: /content/drive/My Drive/deepfake_project/test_videos/ilqwcbprqa.mp4  \n",
            "  inflating: /content/drive/My Drive/deepfake_project/test_videos/imdmhwkkni.mp4  \n",
            "  inflating: /content/drive/My Drive/deepfake_project/test_videos/iorbtaarte.mp4  \n",
            "  inflating: /content/drive/My Drive/deepfake_project/test_videos/ipkpxvwroe.mp4  \n",
            "  inflating: /content/drive/My Drive/deepfake_project/test_videos/ipvwtgdlre.mp4  \n",
            "  inflating: /content/drive/My Drive/deepfake_project/test_videos/irqzdokcws.mp4  \n",
            "  inflating: /content/drive/My Drive/deepfake_project/test_videos/itfsvvmslp.mp4  \n",
            "  inflating: /content/drive/My Drive/deepfake_project/test_videos/iznnzjvaxc.mp4  \n",
            "  inflating: /content/drive/My Drive/deepfake_project/test_videos/jawgcggquk.mp4  \n",
            "  inflating: /content/drive/My Drive/deepfake_project/test_videos/jhczqfefgw.mp4  \n",
            "  inflating: /content/drive/My Drive/deepfake_project/test_videos/jiavqbrkyk.mp4  \n",
            "  inflating: /content/drive/My Drive/deepfake_project/test_videos/jiswxuqzyz.mp4  \n",
            "  inflating: /content/drive/My Drive/deepfake_project/test_videos/jquevmhdvc.mp4  \n",
            "  inflating: /content/drive/My Drive/deepfake_project/test_videos/jsbpkpxwew.mp4  \n",
            "  inflating: /content/drive/My Drive/deepfake_project/test_videos/jsysgmycsx.mp4  \n",
            "  inflating: /content/drive/My Drive/deepfake_project/test_videos/jyfvaequfg.mp4  \n",
            "  inflating: /content/drive/My Drive/deepfake_project/test_videos/jyoxdvxpza.mp4  \n",
            "  inflating: /content/drive/My Drive/deepfake_project/test_videos/jytrvwlewz.mp4  \n",
            "  inflating: /content/drive/My Drive/deepfake_project/test_videos/jzmzdispyo.mp4  \n",
            "  inflating: /content/drive/My Drive/deepfake_project/test_videos/kcjvhgvhpt.mp4  \n",
            "  inflating: /content/drive/My Drive/deepfake_project/test_videos/keioymnobc.mp4  \n",
            "  inflating: /content/drive/My Drive/deepfake_project/test_videos/kezwvsxxzj.mp4  \n",
            "  inflating: /content/drive/My Drive/deepfake_project/test_videos/khpipxnsvx.mp4  \n",
            "  inflating: /content/drive/My Drive/deepfake_project/test_videos/kmcdjxmnoa.mp4  \n",
            "  inflating: /content/drive/My Drive/deepfake_project/test_videos/kmqkiihrmj.mp4  \n",
            "  inflating: /content/drive/My Drive/deepfake_project/test_videos/knxltsvzyu.mp4  \n",
            "  inflating: /content/drive/My Drive/deepfake_project/test_videos/kowiwvrjht.mp4  \n",
            "  inflating: /content/drive/My Drive/deepfake_project/test_videos/kqlvggiqee.mp4  \n",
            "  inflating: /content/drive/My Drive/deepfake_project/test_videos/kvmpmhdxly.mp4  \n",
            "  inflating: /content/drive/My Drive/deepfake_project/test_videos/kwfdyqofzw.mp4  \n",
            "  inflating: /content/drive/My Drive/deepfake_project/test_videos/lbfqksftuo.mp4  \n",
            "  inflating: /content/drive/My Drive/deepfake_project/test_videos/lbigytrrtr.mp4  \n",
            "  inflating: /content/drive/My Drive/deepfake_project/test_videos/lebzjtusnr.mp4  \n",
            "  inflating: /content/drive/My Drive/deepfake_project/test_videos/lhvjzhjxdp.mp4  \n",
            "  inflating: /content/drive/My Drive/deepfake_project/test_videos/ljauauuyka.mp4  \n",
            "  inflating: /content/drive/My Drive/deepfake_project/test_videos/ljouzjaqqe.mp4  \n",
            "  inflating: /content/drive/My Drive/deepfake_project/test_videos/llplvmcvbl.mp4  \n",
            "  inflating: /content/drive/My Drive/deepfake_project/test_videos/lmdyicksrv.mp4  \n",
            "  inflating: /content/drive/My Drive/deepfake_project/test_videos/lnhkjhyhvw.mp4  \n",
            "  inflating: /content/drive/My Drive/deepfake_project/test_videos/lnjkpdviqb.mp4  \n",
            "  inflating: /content/drive/My Drive/deepfake_project/test_videos/lpgxwdgnio.mp4  \n",
            "  inflating: /content/drive/My Drive/deepfake_project/test_videos/lpkgabskbw.mp4  \n",
            "  inflating: /content/drive/My Drive/deepfake_project/test_videos/lujvyveojc.mp4  \n",
            "  inflating: /content/drive/My Drive/deepfake_project/test_videos/lyoslorecs.mp4  \n",
            "  inflating: /content/drive/My Drive/deepfake_project/test_videos/mdfndlljvt.mp4  \n",
            "  inflating: /content/drive/My Drive/deepfake_project/test_videos/mkmgcxaztt.mp4  \n",
            "  inflating: /content/drive/My Drive/deepfake_project/test_videos/mkzaekkvej.mp4  \n",
            "  inflating: /content/drive/My Drive/deepfake_project/test_videos/mllzkpgatp.mp4  \n",
            "  inflating: /content/drive/My Drive/deepfake_project/test_videos/mnowxangqx.mp4  \n",
            "  inflating: /content/drive/My Drive/deepfake_project/test_videos/mnzabbkpmt.mp4  \n",
            "  inflating: /content/drive/My Drive/deepfake_project/test_videos/mohiqoogpb.mp4  \n",
            "  inflating: /content/drive/My Drive/deepfake_project/test_videos/mszblrdprw.mp4  \n",
            "  inflating: /content/drive/My Drive/deepfake_project/test_videos/mwnibuujwz.mp4  \n",
            "  inflating: /content/drive/My Drive/deepfake_project/test_videos/mwwploizlj.mp4  \n",
            "  inflating: /content/drive/My Drive/deepfake_project/test_videos/mxahsihabr.mp4  \n",
            "  inflating: /content/drive/My Drive/deepfake_project/test_videos/mxlipjhmqk.mp4  \n",
            "  inflating: /content/drive/My Drive/deepfake_project/test_videos/ncmpqwmnzb.mp4  \n",
            "  inflating: /content/drive/My Drive/deepfake_project/test_videos/ncoeewrdlo.mp4  \n",
            "  inflating: /content/drive/My Drive/deepfake_project/test_videos/ndikguxzek.mp4  \n",
            "  inflating: /content/drive/My Drive/deepfake_project/test_videos/nikynwcvuh.mp4  \n",
            "  inflating: /content/drive/My Drive/deepfake_project/test_videos/njzshtfmcw.mp4  \n",
            "  inflating: /content/drive/My Drive/deepfake_project/test_videos/nkhzxomani.mp4  \n",
            "  inflating: /content/drive/My Drive/deepfake_project/test_videos/novarhxpbj.mp4  \n",
            "  inflating: /content/drive/My Drive/deepfake_project/test_videos/nplviymzlg.mp4  \n",
            "  inflating: /content/drive/My Drive/deepfake_project/test_videos/nswtvttxre.mp4  \n",
            "  inflating: /content/drive/My Drive/deepfake_project/test_videos/nthpnwylxo.mp4  \n",
            "  inflating: /content/drive/My Drive/deepfake_project/test_videos/nwvloufjty.mp4  \n",
            "  inflating: /content/drive/My Drive/deepfake_project/test_videos/nwvsbmyndn.mp4  \n",
            "  inflating: /content/drive/My Drive/deepfake_project/test_videos/nxgzmgzkfv.mp4  \n",
            "  inflating: /content/drive/My Drive/deepfake_project/test_videos/nxnmkytwze.mp4  \n",
            "  inflating: /content/drive/My Drive/deepfake_project/test_videos/nxzgekegsp.mp4  \n",
            "  inflating: /content/drive/My Drive/deepfake_project/test_videos/nycmyuzpml.mp4  \n",
            "  inflating: /content/drive/My Drive/deepfake_project/test_videos/nymodlmxni.mp4  \n",
            "  inflating: /content/drive/My Drive/deepfake_project/test_videos/oaguiggjyv.mp4  \n",
            "  inflating: /content/drive/My Drive/deepfake_project/test_videos/ocgdbrgmtq.mp4  \n",
            "  inflating: /content/drive/My Drive/deepfake_project/test_videos/oefukgnvel.mp4  \n",
            "  inflating: /content/drive/My Drive/deepfake_project/test_videos/oelqpetgwj.mp4  \n",
            "  inflating: /content/drive/My Drive/deepfake_project/test_videos/ojsxxkalat.mp4  \n",
            "  inflating: /content/drive/My Drive/deepfake_project/test_videos/okgelildpc.mp4  \n",
            "  inflating: /content/drive/My Drive/deepfake_project/test_videos/omphqltjdd.mp4  \n",
            "  inflating: /content/drive/My Drive/deepfake_project/test_videos/ooafcxxfrs.mp4  \n",
            "  inflating: /content/drive/My Drive/deepfake_project/test_videos/oocincvedt.mp4  \n",
            "  inflating: /content/drive/My Drive/deepfake_project/test_videos/oojxonbgow.mp4  \n",
            "  inflating: /content/drive/My Drive/deepfake_project/test_videos/opvqdabdap.mp4  \n",
            "  inflating: /content/drive/My Drive/deepfake_project/test_videos/orekjthsef.mp4  \n",
            "  inflating: /content/drive/My Drive/deepfake_project/test_videos/orixbcfvdz.mp4  \n",
            "  inflating: /content/drive/My Drive/deepfake_project/test_videos/ouaowjmigq.mp4  \n",
            "  inflating: /content/drive/My Drive/deepfake_project/test_videos/owaogcehvc.mp4  \n",
            "  inflating: /content/drive/My Drive/deepfake_project/test_videos/oyqgwjdwaj.mp4  \n",
            "  inflating: /content/drive/My Drive/deepfake_project/test_videos/oysopgovhu.mp4  \n",
            "  inflating: /content/drive/My Drive/deepfake_project/test_videos/papagllumt.mp4  \n",
            "  inflating: /content/drive/My Drive/deepfake_project/test_videos/pcoxcmtroa.mp4  \n",
            "  inflating: /content/drive/My Drive/deepfake_project/test_videos/pcyswtgick.mp4  \n",
            "  inflating: /content/drive/My Drive/deepfake_project/test_videos/pdswwyyntw.mp4  \n",
            "  inflating: /content/drive/My Drive/deepfake_project/test_videos/pdufsewrec.mp4  \n",
            "  inflating: /content/drive/My Drive/deepfake_project/test_videos/petmyhjclt.mp4  \n",
            "  inflating: /content/drive/My Drive/deepfake_project/test_videos/phjvutxpoi.mp4  \n",
            "  inflating: /content/drive/My Drive/deepfake_project/test_videos/pqdeutauqc.mp4  \n",
            "  inflating: /content/drive/My Drive/deepfake_project/test_videos/pqthmvwonf.mp4  \n",
            "  inflating: /content/drive/My Drive/deepfake_project/test_videos/prhmixykhr.mp4  \n",
            "  inflating: /content/drive/My Drive/deepfake_project/test_videos/prwsfljdjo.mp4  \n",
            "  inflating: /content/drive/My Drive/deepfake_project/test_videos/psesikjaxx.mp4  \n",
            "  inflating: /content/drive/My Drive/deepfake_project/test_videos/ptbfnkajyi.mp4  \n",
            "  inflating: /content/drive/My Drive/deepfake_project/test_videos/ptbnewtvon.mp4  \n",
            "  inflating: /content/drive/My Drive/deepfake_project/test_videos/pxcfrszlgi.mp4  \n",
            "  inflating: /content/drive/My Drive/deepfake_project/test_videos/pxjkzvqomp.mp4  \n",
            "  inflating: /content/drive/My Drive/deepfake_project/test_videos/qarqtkvgby.mp4  \n",
            "  inflating: /content/drive/My Drive/deepfake_project/test_videos/qcbkztamqc.mp4  \n",
            "  inflating: /content/drive/My Drive/deepfake_project/test_videos/qclpbcbgeq.mp4  \n",
            "  inflating: /content/drive/My Drive/deepfake_project/test_videos/qdqdsaiitt.mp4  \n",
            "  inflating: /content/drive/My Drive/deepfake_project/test_videos/qhkzlnzruj.mp4  \n",
            "  inflating: /content/drive/My Drive/deepfake_project/test_videos/qhsehzgxqj.mp4  \n",
            "  inflating: /content/drive/My Drive/deepfake_project/test_videos/qlqhjcshpk.mp4  \n",
            "  inflating: /content/drive/My Drive/deepfake_project/test_videos/qlvsqdroqo.mp4  \n",
            "  inflating: /content/drive/My Drive/deepfake_project/test_videos/qooxnxqqjb.mp4  \n",
            "  inflating: /content/drive/My Drive/deepfake_project/test_videos/qqnlrngaft.mp4  \n",
            "  inflating: /content/drive/My Drive/deepfake_project/test_videos/qsjiypnjwi.mp4  \n",
            "  inflating: /content/drive/My Drive/deepfake_project/test_videos/qswlzfgcgj.mp4  \n",
            "  inflating: /content/drive/My Drive/deepfake_project/test_videos/qxyrtwozyw.mp4  \n",
            "  inflating: /content/drive/My Drive/deepfake_project/test_videos/qyyhuvqmyf.mp4  \n",
            "  inflating: /content/drive/My Drive/deepfake_project/test_videos/rcecrgeotc.mp4  \n",
            "  inflating: /content/drive/My Drive/deepfake_project/test_videos/rcjfxxhcal.mp4  \n",
            "  inflating: /content/drive/My Drive/deepfake_project/test_videos/rerpivllud.mp4  \n",
            "  inflating: /content/drive/My Drive/deepfake_project/test_videos/rfjuhbnlro.mp4  \n",
            "  inflating: /content/drive/My Drive/deepfake_project/test_videos/rfwxcinshk.mp4  \n",
            "  inflating: /content/drive/My Drive/deepfake_project/test_videos/rklawjhbpv.mp4  \n",
            "  inflating: /content/drive/My Drive/deepfake_project/test_videos/rktrpsdlci.mp4  \n",
            "  inflating: /content/drive/My Drive/deepfake_project/test_videos/rmlzgerevr.mp4  \n",
            "  inflating: /content/drive/My Drive/deepfake_project/test_videos/rmufsuogzn.mp4  \n",
            "  inflating: /content/drive/My Drive/deepfake_project/test_videos/rnfcjxynfa.mp4  \n",
            "  inflating: /content/drive/My Drive/deepfake_project/test_videos/rrrfjhugvb.mp4  \n",
            "  inflating: /content/drive/My Drive/deepfake_project/test_videos/rtpbawlmxr.mp4  \n",
            "  inflating: /content/drive/My Drive/deepfake_project/test_videos/ruhtnngrqv.mp4  \n",
            "  inflating: /content/drive/My Drive/deepfake_project/test_videos/rukyxomwcx.mp4  \n",
            "  inflating: /content/drive/My Drive/deepfake_project/test_videos/rvvpazsffd.mp4  \n",
            "  inflating: /content/drive/My Drive/deepfake_project/test_videos/rxdoimqble.mp4  \n",
            "  inflating: /content/drive/My Drive/deepfake_project/test_videos/ryxaqpfubf.mp4  \n",
            "  inflating: /content/drive/My Drive/deepfake_project/test_videos/scbdenmaed.mp4  \n",
            "  inflating: /content/drive/My Drive/deepfake_project/test_videos/scrbqgpvzz.mp4  \n",
            "  inflating: /content/drive/My Drive/deepfake_project/test_videos/sfsayjgzrh.mp4  \n",
            "  inflating: /content/drive/My Drive/deepfake_project/test_videos/shnsajrsow.mp4  \n",
            "  inflating: /content/drive/My Drive/deepfake_project/test_videos/siebfpwuhu.mp4  \n",
            "  inflating: /content/drive/My Drive/deepfake_project/test_videos/sjinmmbipg.mp4  \n",
            "  inflating: /content/drive/My Drive/deepfake_project/test_videos/sjkfxrlxxs.mp4  \n",
            "  inflating: /content/drive/My Drive/deepfake_project/test_videos/sjwywglgym.mp4  \n",
            "  inflating: /content/drive/My Drive/deepfake_project/test_videos/sktpeppbkc.mp4  \n",
            "  inflating: /content/drive/My Drive/deepfake_project/test_videos/sngjsueuhs.mp4  \n",
            "  inflating: /content/drive/My Drive/deepfake_project/test_videos/snlyjbnpgw.mp4  \n",
            "  inflating: /content/drive/My Drive/deepfake_project/test_videos/sodvtfqbpf.mp4  \n",
            "  inflating: /content/drive/My Drive/deepfake_project/test_videos/sqixhnilfm.mp4  \n",
            "  inflating: /content/drive/My Drive/deepfake_project/test_videos/srfefmyjvt.mp4  \n",
            "  inflating: /content/drive/My Drive/deepfake_project/test_videos/sufvvwmbha.mp4  \n",
            "  inflating: /content/drive/My Drive/deepfake_project/test_videos/swsaoktwgi.mp4  \n",
            "  inflating: /content/drive/My Drive/deepfake_project/test_videos/sylnrepacf.mp4  \n",
            "  inflating: /content/drive/My Drive/deepfake_project/test_videos/syuxttuyhm.mp4  \n",
            "  inflating: /content/drive/My Drive/deepfake_project/test_videos/syxobtuucp.mp4  \n",
            "  inflating: /content/drive/My Drive/deepfake_project/test_videos/sznkemeqro.mp4  \n",
            "  inflating: /content/drive/My Drive/deepfake_project/test_videos/tejfudfgpq.mp4  \n",
            "  inflating: /content/drive/My Drive/deepfake_project/test_videos/temeqbmzxu.mp4  \n",
            "  inflating: /content/drive/My Drive/deepfake_project/test_videos/temjefwaas.mp4  \n",
            "  inflating: /content/drive/My Drive/deepfake_project/test_videos/tgawasvbbr.mp4  \n",
            "  inflating: /content/drive/My Drive/deepfake_project/test_videos/tjuihawuqm.mp4  \n",
            "  inflating: /content/drive/My Drive/deepfake_project/test_videos/tjywwgftmv.mp4  \n",
            "  inflating: /content/drive/My Drive/deepfake_project/test_videos/toinozytsp.mp4  \n",
            "  inflating: /content/drive/My Drive/deepfake_project/test_videos/tvhjcfnqtg.mp4  \n",
            "  inflating: /content/drive/My Drive/deepfake_project/test_videos/txmnoyiyte.mp4  \n",
            "  inflating: /content/drive/My Drive/deepfake_project/test_videos/txnmkabufs.mp4  \n",
            "  inflating: /content/drive/My Drive/deepfake_project/test_videos/tyjpjpglgx.mp4  \n",
            "  inflating: /content/drive/My Drive/deepfake_project/test_videos/tynfsthodx.mp4  \n",
            "  inflating: /content/drive/My Drive/deepfake_project/test_videos/ucthmsajay.mp4  \n",
            "  inflating: /content/drive/My Drive/deepfake_project/test_videos/udxqbhgvvx.mp4  \n",
            "  inflating: /content/drive/My Drive/deepfake_project/test_videos/uhakqelqri.mp4  \n",
            "  inflating: /content/drive/My Drive/deepfake_project/test_videos/uhrqlmlclw.mp4  \n",
            "  inflating: /content/drive/My Drive/deepfake_project/test_videos/uoccaiathd.mp4  \n",
            "  inflating: /content/drive/My Drive/deepfake_project/test_videos/upmgtackuf.mp4  \n",
            "  inflating: /content/drive/My Drive/deepfake_project/test_videos/uqvxjfpwdo.mp4  \n",
            "  inflating: /content/drive/My Drive/deepfake_project/test_videos/usqqvxcjmg.mp4  \n",
            "  inflating: /content/drive/My Drive/deepfake_project/test_videos/uubgqnvfdl.mp4  \n",
            "  inflating: /content/drive/My Drive/deepfake_project/test_videos/uvrzaczrbx.mp4  \n",
            "  inflating: /content/drive/My Drive/deepfake_project/test_videos/uxuvkrjhws.mp4  \n",
            "  inflating: /content/drive/My Drive/deepfake_project/test_videos/vajkicalux.mp4  \n",
            "  inflating: /content/drive/My Drive/deepfake_project/test_videos/vbcgoyxsvn.mp4  \n",
            "  inflating: /content/drive/My Drive/deepfake_project/test_videos/vdtsbqidjb.mp4  \n",
            "  inflating: /content/drive/My Drive/deepfake_project/test_videos/vhbbwdflyh.mp4  \n",
            "  inflating: /content/drive/My Drive/deepfake_project/test_videos/viteugozpv.mp4  \n",
            "  inflating: /content/drive/My Drive/deepfake_project/test_videos/vizerpsvbz.mp4  \n",
            "  inflating: /content/drive/My Drive/deepfake_project/test_videos/vjljdfopjg.mp4  \n",
            "  inflating: /content/drive/My Drive/deepfake_project/test_videos/vmxfwxgdei.mp4  \n",
            "  inflating: /content/drive/My Drive/deepfake_project/test_videos/vnlzxqwthl.mp4  \n",
            "  inflating: /content/drive/My Drive/deepfake_project/test_videos/voawxrmqyl.mp4  \n",
            "  inflating: /content/drive/My Drive/deepfake_project/test_videos/vokrpfjpeb.mp4  \n",
            "  inflating: /content/drive/My Drive/deepfake_project/test_videos/vssmlqoiti.mp4  \n",
            "  inflating: /content/drive/My Drive/deepfake_project/test_videos/vtunvalyji.mp4  \n",
            "  inflating: /content/drive/My Drive/deepfake_project/test_videos/vurjckblge.mp4  \n",
            "  inflating: /content/drive/My Drive/deepfake_project/test_videos/vvfszaosiv.mp4  \n",
            "  inflating: /content/drive/My Drive/deepfake_project/test_videos/vwxednhlwz.mp4  \n",
            "  inflating: /content/drive/My Drive/deepfake_project/test_videos/wadvzjhwtw.mp4  \n",
            "  inflating: /content/drive/My Drive/deepfake_project/test_videos/waucvvmtkq.mp4  \n",
            "  inflating: /content/drive/My Drive/deepfake_project/test_videos/wclvkepakb.mp4  \n",
            "  inflating: /content/drive/My Drive/deepfake_project/test_videos/wcqvzujamg.mp4  \n",
            "  inflating: /content/drive/My Drive/deepfake_project/test_videos/wcssbghcpc.mp4  \n",
            "  inflating: /content/drive/My Drive/deepfake_project/test_videos/wcvsqnplsk.mp4  \n",
            "  inflating: /content/drive/My Drive/deepfake_project/test_videos/wfzjxzhdkj.mp4  \n",
            "  inflating: /content/drive/My Drive/deepfake_project/test_videos/wixbuuzygv.mp4  \n",
            "  inflating: /content/drive/My Drive/deepfake_project/test_videos/wjhpisoeaj.mp4  \n",
            "  inflating: /content/drive/My Drive/deepfake_project/test_videos/wmoqzxddkb.mp4  \n",
            "  inflating: /content/drive/My Drive/deepfake_project/test_videos/wndursivcx.mp4  \n",
            "  inflating: /content/drive/My Drive/deepfake_project/test_videos/wnlubukrki.mp4  \n",
            "  inflating: /content/drive/My Drive/deepfake_project/test_videos/wqysrieiqu.mp4  \n",
            "  inflating: /content/drive/My Drive/deepfake_project/test_videos/wvgviwnwob.mp4  \n",
            "  inflating: /content/drive/My Drive/deepfake_project/test_videos/wynotylpnm.mp4  \n",
            "  inflating: /content/drive/My Drive/deepfake_project/test_videos/xcruhaccxc.mp4  \n",
            "  inflating: /content/drive/My Drive/deepfake_project/test_videos/xdezcezszc.mp4  \n",
            "  inflating: /content/drive/My Drive/deepfake_project/test_videos/xhtppuyqdr.mp4  \n",
            "  inflating: /content/drive/My Drive/deepfake_project/test_videos/xitgdpzbxv.mp4  \n",
            "  inflating: /content/drive/My Drive/deepfake_project/test_videos/xjvxtuakyd.mp4  \n",
            "  inflating: /content/drive/My Drive/deepfake_project/test_videos/xljemofssi.mp4  \n",
            "  inflating: /content/drive/My Drive/deepfake_project/test_videos/xmkwsnuzyq.mp4  \n",
            "  inflating: /content/drive/My Drive/deepfake_project/test_videos/xphdfgmfmz.mp4  \n",
            "  inflating: /content/drive/My Drive/deepfake_project/test_videos/xrtvqhdibb.mp4  \n",
            "  inflating: /content/drive/My Drive/deepfake_project/test_videos/xugmhbetrw.mp4  \n",
            "  inflating: /content/drive/My Drive/deepfake_project/test_videos/xxzefxwyku.mp4  \n",
            "  inflating: /content/drive/My Drive/deepfake_project/test_videos/yarpxfqejd.mp4  \n",
            "  inflating: /content/drive/My Drive/deepfake_project/test_videos/yaxgpxhavq.mp4  \n",
            "  inflating: /content/drive/My Drive/deepfake_project/test_videos/ybbrkacebd.mp4  \n",
            "  inflating: /content/drive/My Drive/deepfake_project/test_videos/yhjlnisfel.mp4  \n",
            "  inflating: /content/drive/My Drive/deepfake_project/test_videos/yhylappzid.mp4  \n",
            "  inflating: /content/drive/My Drive/deepfake_project/test_videos/yietrwuncf.mp4  \n",
            "  inflating: /content/drive/My Drive/deepfake_project/test_videos/yiykshcbaz.mp4  \n",
            "  inflating: /content/drive/My Drive/deepfake_project/test_videos/yljecirelf.mp4  \n",
            "  inflating: /content/drive/My Drive/deepfake_project/test_videos/yllztsrwjw.mp4  \n",
            "  inflating: /content/drive/My Drive/deepfake_project/test_videos/ylxwcwhjjd.mp4  \n",
            "  inflating: /content/drive/My Drive/deepfake_project/test_videos/yoyhmxtrys.mp4  \n",
            "  inflating: /content/drive/My Drive/deepfake_project/test_videos/ypbtpunjvm.mp4  \n",
            "  inflating: /content/drive/My Drive/deepfake_project/test_videos/yqhouqakbx.mp4  \n",
            "  inflating: /content/drive/My Drive/deepfake_project/test_videos/yronlutbgm.mp4  \n",
            "  inflating: /content/drive/My Drive/deepfake_project/test_videos/ystdtnetgj.mp4  \n",
            "  inflating: /content/drive/My Drive/deepfake_project/test_videos/ytddugrwph.mp4  \n",
            "  inflating: /content/drive/My Drive/deepfake_project/test_videos/ytopzxrswu.mp4  \n",
            "  inflating: /content/drive/My Drive/deepfake_project/test_videos/ywauoonmlr.mp4  \n",
            "  inflating: /content/drive/My Drive/deepfake_project/test_videos/ywxpquomgt.mp4  \n",
            "  inflating: /content/drive/My Drive/deepfake_project/test_videos/yxadevzohx.mp4  \n",
            "  inflating: /content/drive/My Drive/deepfake_project/test_videos/yxirnfyijn.mp4  \n",
            "  inflating: /content/drive/My Drive/deepfake_project/test_videos/yxvmusxvcz.mp4  \n",
            "  inflating: /content/drive/My Drive/deepfake_project/test_videos/yzuestxcbq.mp4  \n",
            "  inflating: /content/drive/My Drive/deepfake_project/test_videos/zbgssotnjm.mp4  \n",
            "  inflating: /content/drive/My Drive/deepfake_project/test_videos/zcxcmneefk.mp4  \n",
            "  inflating: /content/drive/My Drive/deepfake_project/test_videos/zfobicuigx.mp4  \n",
            "  inflating: /content/drive/My Drive/deepfake_project/test_videos/zfrrixsimm.mp4  \n",
            "  inflating: /content/drive/My Drive/deepfake_project/test_videos/zgbhzkditd.mp4  \n",
            "  inflating: /content/drive/My Drive/deepfake_project/test_videos/zgjosltkie.mp4  \n",
            "  inflating: /content/drive/My Drive/deepfake_project/test_videos/ziipxxchai.mp4  \n",
            "  inflating: /content/drive/My Drive/deepfake_project/test_videos/zmxeiipnqb.mp4  \n",
            "  inflating: /content/drive/My Drive/deepfake_project/test_videos/ztyuiqrhdk.mp4  \n",
            "  inflating: /content/drive/My Drive/deepfake_project/test_videos/ztyvglkcsf.mp4  \n",
            "  inflating: /content/drive/My Drive/deepfake_project/test_videos/zuwwbbusgl.mp4  \n",
            "  inflating: /content/drive/My Drive/deepfake_project/test_videos/zxacihctqp.mp4  \n",
            "  inflating: /content/drive/My Drive/deepfake_project/test_videos/zyufpqvpyu.mp4  \n",
            "  inflating: /content/drive/My Drive/deepfake_project/test_videos/zzmgnglanj.mp4  \n",
            "  inflating: /content/drive/My Drive/deepfake_project/train_sample_videos/aagfhgtpmv.mp4  \n",
            "  inflating: /content/drive/My Drive/deepfake_project/train_sample_videos/aapnvogymq.mp4  \n",
            "  inflating: /content/drive/My Drive/deepfake_project/train_sample_videos/abarnvbtwb.mp4  \n",
            "  inflating: /content/drive/My Drive/deepfake_project/train_sample_videos/abofeumbvv.mp4  \n",
            "  inflating: /content/drive/My Drive/deepfake_project/train_sample_videos/abqwwspghj.mp4  \n",
            "  inflating: /content/drive/My Drive/deepfake_project/train_sample_videos/acifjvzvpm.mp4  \n",
            "  inflating: /content/drive/My Drive/deepfake_project/train_sample_videos/acqfdwsrhi.mp4  \n",
            "  inflating: /content/drive/My Drive/deepfake_project/train_sample_videos/acxnxvbsxk.mp4  \n",
            "  inflating: /content/drive/My Drive/deepfake_project/train_sample_videos/acxwigylke.mp4  \n",
            "  inflating: /content/drive/My Drive/deepfake_project/train_sample_videos/aczrgyricp.mp4  \n",
            "  inflating: /content/drive/My Drive/deepfake_project/train_sample_videos/adhsbajydo.mp4  \n",
            "  inflating: /content/drive/My Drive/deepfake_project/train_sample_videos/adohikbdaz.mp4  \n",
            "  inflating: /content/drive/My Drive/deepfake_project/train_sample_videos/adylbeequz.mp4  \n",
            "  inflating: /content/drive/My Drive/deepfake_project/train_sample_videos/aelfnikyqj.mp4  \n",
            "  inflating: /content/drive/My Drive/deepfake_project/train_sample_videos/aelzhcnwgf.mp4  \n",
            "  inflating: /content/drive/My Drive/deepfake_project/train_sample_videos/aettqgevhz.mp4  \n",
            "  inflating: /content/drive/My Drive/deepfake_project/train_sample_videos/aevrfsexku.mp4  \n",
            "  inflating: /content/drive/My Drive/deepfake_project/train_sample_videos/afoovlsmtx.mp4  \n",
            "  inflating: /content/drive/My Drive/deepfake_project/train_sample_videos/agdkmztvby.mp4  \n",
            "  inflating: /content/drive/My Drive/deepfake_project/train_sample_videos/agqphdxmwt.mp4  \n",
            "  inflating: /content/drive/My Drive/deepfake_project/train_sample_videos/agrmhtjdlk.mp4  \n",
            "  inflating: /content/drive/My Drive/deepfake_project/train_sample_videos/ahbweevwpv.mp4  \n",
            "  inflating: /content/drive/My Drive/deepfake_project/train_sample_videos/ahdbuwqxit.mp4  \n",
            "  inflating: /content/drive/My Drive/deepfake_project/train_sample_videos/ahfazfbntc.mp4  \n",
            "  inflating: /content/drive/My Drive/deepfake_project/train_sample_videos/ahqqqilsxt.mp4  \n",
            "  inflating: /content/drive/My Drive/deepfake_project/train_sample_videos/aipfdnwpoo.mp4  \n",
            "  inflating: /content/drive/My Drive/deepfake_project/train_sample_videos/ajqslcypsw.mp4  \n",
            "  inflating: /content/drive/My Drive/deepfake_project/train_sample_videos/ajwpjhrbcv.mp4  \n",
            "  inflating: /content/drive/My Drive/deepfake_project/train_sample_videos/aklqzsddfl.mp4  \n",
            "  inflating: /content/drive/My Drive/deepfake_project/train_sample_videos/aknbdpmgua.mp4  \n",
            "  inflating: /content/drive/My Drive/deepfake_project/train_sample_videos/aknmpoonls.mp4  \n",
            "  inflating: /content/drive/My Drive/deepfake_project/train_sample_videos/akvmwkdyuv.mp4  \n",
            "  inflating: /content/drive/My Drive/deepfake_project/train_sample_videos/akxoopqjqz.mp4  \n",
            "  inflating: /content/drive/My Drive/deepfake_project/train_sample_videos/akzbnazxtz.mp4  \n",
            "  inflating: /content/drive/My Drive/deepfake_project/train_sample_videos/aladcziidp.mp4  \n",
            "  inflating: /content/drive/My Drive/deepfake_project/train_sample_videos/alaijyygdv.mp4  \n",
            "  inflating: /content/drive/My Drive/deepfake_project/train_sample_videos/alninxcyhg.mp4  \n",
            "  inflating: /content/drive/My Drive/deepfake_project/train_sample_videos/altziddtxi.mp4  \n",
            "  inflating: /content/drive/My Drive/deepfake_project/train_sample_videos/alvgwypubw.mp4  \n",
            "  inflating: /content/drive/My Drive/deepfake_project/train_sample_videos/amaivqofda.mp4  \n",
            "  inflating: /content/drive/My Drive/deepfake_project/train_sample_videos/amowujxmzc.mp4  \n",
            "  inflating: /content/drive/My Drive/deepfake_project/train_sample_videos/andaxzscny.mp4  \n",
            "  inflating: /content/drive/My Drive/deepfake_project/train_sample_videos/aneclqfpbt.mp4  \n",
            "  inflating: /content/drive/My Drive/deepfake_project/train_sample_videos/anpuvshzoo.mp4  \n",
            "  inflating: /content/drive/My Drive/deepfake_project/train_sample_videos/aorjvbyxhw.mp4  \n",
            "  inflating: /content/drive/My Drive/deepfake_project/train_sample_videos/apatcsqejh.mp4  \n",
            "  inflating: /content/drive/My Drive/deepfake_project/train_sample_videos/apgjqzkoma.mp4  \n",
            "  inflating: /content/drive/My Drive/deepfake_project/train_sample_videos/apogckdfrz.mp4  \n",
            "  inflating: /content/drive/My Drive/deepfake_project/train_sample_videos/aqpnvjhuzw.mp4  \n",
            "  inflating: /content/drive/My Drive/deepfake_project/train_sample_videos/arkroixhey.mp4  \n",
            "  inflating: /content/drive/My Drive/deepfake_project/train_sample_videos/arlmiizoob.mp4  \n",
            "  inflating: /content/drive/My Drive/deepfake_project/train_sample_videos/arrhsnjqku.mp4  \n",
            "  inflating: /content/drive/My Drive/deepfake_project/train_sample_videos/asaxgevnnp.mp4  \n",
            "  inflating: /content/drive/My Drive/deepfake_project/train_sample_videos/asdpeebotb.mp4  \n",
            "  inflating: /content/drive/My Drive/deepfake_project/train_sample_videos/aslsvlvpth.mp4  \n",
            "  inflating: /content/drive/My Drive/deepfake_project/train_sample_videos/asmpfjfzif.mp4  \n",
            "  inflating: /content/drive/My Drive/deepfake_project/train_sample_videos/asvcrfdpnq.mp4  \n",
            "  inflating: /content/drive/My Drive/deepfake_project/train_sample_videos/atkdltyyen.mp4  \n",
            "  inflating: /content/drive/My Drive/deepfake_project/train_sample_videos/atvmxvwyns.mp4  \n",
            "  inflating: /content/drive/My Drive/deepfake_project/train_sample_videos/atxvxouljq.mp4  \n",
            "  inflating: /content/drive/My Drive/deepfake_project/train_sample_videos/atyntldecu.mp4  \n",
            "  inflating: /content/drive/My Drive/deepfake_project/train_sample_videos/atzdznmder.mp4  \n",
            "  inflating: /content/drive/My Drive/deepfake_project/train_sample_videos/aufmsmnoye.mp4  \n",
            "  inflating: /content/drive/My Drive/deepfake_project/train_sample_videos/augtsuxpzc.mp4  \n",
            "  inflating: /content/drive/My Drive/deepfake_project/train_sample_videos/avfitoutyn.mp4  \n",
            "  inflating: /content/drive/My Drive/deepfake_project/train_sample_videos/avgiuextiz.mp4  \n",
            "  inflating: /content/drive/My Drive/deepfake_project/train_sample_videos/avibnnhwhp.mp4  \n",
            "  inflating: /content/drive/My Drive/deepfake_project/train_sample_videos/avmjormvsx.mp4  \n",
            "  inflating: /content/drive/My Drive/deepfake_project/train_sample_videos/avnqydkqjj.mp4  \n",
            "  inflating: /content/drive/My Drive/deepfake_project/train_sample_videos/avssvvsdhz.mp4  \n",
            "  inflating: /content/drive/My Drive/deepfake_project/train_sample_videos/avtycwsgyb.mp4  \n",
            "  inflating: /content/drive/My Drive/deepfake_project/train_sample_videos/avvdgsennp.mp4  \n",
            "  inflating: /content/drive/My Drive/deepfake_project/train_sample_videos/avywawptfc.mp4  \n",
            "  inflating: /content/drive/My Drive/deepfake_project/train_sample_videos/awhmfnnjih.mp4  \n",
            "  inflating: /content/drive/My Drive/deepfake_project/train_sample_videos/awnwkrqibf.mp4  \n",
            "  inflating: /content/drive/My Drive/deepfake_project/train_sample_videos/awukslzjra.mp4  \n",
            "  inflating: /content/drive/My Drive/deepfake_project/train_sample_videos/axczxisdtb.mp4  \n",
            "  inflating: /content/drive/My Drive/deepfake_project/train_sample_videos/axntxmycwd.mp4  \n",
            "  inflating: /content/drive/My Drive/deepfake_project/train_sample_videos/axoygtekut.mp4  \n",
            "  inflating: /content/drive/My Drive/deepfake_project/train_sample_videos/axwgcsyphv.mp4  \n",
            "  inflating: /content/drive/My Drive/deepfake_project/train_sample_videos/axwovszumc.mp4  \n",
            "  inflating: /content/drive/My Drive/deepfake_project/train_sample_videos/aybgughjxh.mp4  \n",
            "  inflating: /content/drive/My Drive/deepfake_project/train_sample_videos/aybumesmpk.mp4  \n",
            "  inflating: /content/drive/My Drive/deepfake_project/train_sample_videos/ayqvfdhslr.mp4  \n",
            "  inflating: /content/drive/My Drive/deepfake_project/train_sample_videos/aytzyidmgs.mp4  \n",
            "  inflating: /content/drive/My Drive/deepfake_project/train_sample_videos/azpuxunqyo.mp4  \n",
            "  inflating: /content/drive/My Drive/deepfake_project/train_sample_videos/azsmewqghg.mp4  \n",
            "  inflating: /content/drive/My Drive/deepfake_project/train_sample_videos/bahdpoesir.mp4  \n",
            "  inflating: /content/drive/My Drive/deepfake_project/train_sample_videos/bbhpvrmbse.mp4  \n",
            "  inflating: /content/drive/My Drive/deepfake_project/train_sample_videos/bbhtdfuqxq.mp4  \n",
            "  inflating: /content/drive/My Drive/deepfake_project/train_sample_videos/bbvgxeczei.mp4  \n",
            "  inflating: /content/drive/My Drive/deepfake_project/train_sample_videos/bchnbulevv.mp4  \n",
            "  inflating: /content/drive/My Drive/deepfake_project/train_sample_videos/bctvsmddgq.mp4  \n",
            "  inflating: /content/drive/My Drive/deepfake_project/train_sample_videos/bdbhekrrwo.mp4  \n",
            "  inflating: /content/drive/My Drive/deepfake_project/train_sample_videos/bddjdhzfze.mp4  \n",
            "  inflating: /content/drive/My Drive/deepfake_project/train_sample_videos/bdgipnyobr.mp4  \n",
            "  inflating: /content/drive/My Drive/deepfake_project/train_sample_videos/bdnaqemxmr.mp4  \n",
            "  inflating: /content/drive/My Drive/deepfake_project/train_sample_videos/bdxuhamuqx.mp4  \n",
            "  inflating: /content/drive/My Drive/deepfake_project/train_sample_videos/beboztfcme.mp4  \n",
            "  inflating: /content/drive/My Drive/deepfake_project/train_sample_videos/bejhvclboh.mp4  \n",
            "  inflating: /content/drive/My Drive/deepfake_project/train_sample_videos/benmsfzfaz.mp4  \n",
            "  inflating: /content/drive/My Drive/deepfake_project/train_sample_videos/beyebyhrph.mp4  \n",
            "  inflating: /content/drive/My Drive/deepfake_project/train_sample_videos/bffwsjxghk.mp4  \n",
            "  inflating: /content/drive/My Drive/deepfake_project/train_sample_videos/bgaogsjehq.mp4  \n",
            "  inflating: /content/drive/My Drive/deepfake_project/train_sample_videos/bggsurpgpr.mp4  \n",
            "  inflating: /content/drive/My Drive/deepfake_project/train_sample_videos/bghphrsfxf.mp4  \n",
            "  inflating: /content/drive/My Drive/deepfake_project/train_sample_videos/bgmlwsoamc.mp4  \n",
            "  inflating: /content/drive/My Drive/deepfake_project/train_sample_videos/bguwlyazau.mp4  \n",
            "  inflating: /content/drive/My Drive/deepfake_project/train_sample_videos/bgvhtpzknn.mp4  \n",
            "  inflating: /content/drive/My Drive/deepfake_project/train_sample_videos/bgwmmujlmc.mp4  \n",
            "  inflating: /content/drive/My Drive/deepfake_project/train_sample_videos/bhaaboftbc.mp4  \n",
            "  inflating: /content/drive/My Drive/deepfake_project/train_sample_videos/bhbdugnurr.mp4  \n",
            "  inflating: /content/drive/My Drive/deepfake_project/train_sample_videos/bhpwpydzpo.mp4  \n",
            "  inflating: /content/drive/My Drive/deepfake_project/train_sample_videos/bhsluedavd.mp4  \n",
            "  inflating: /content/drive/My Drive/deepfake_project/train_sample_videos/bilnggbxgu.mp4  \n",
            "  inflating: /content/drive/My Drive/deepfake_project/train_sample_videos/bjjbwsqjir.mp4  \n",
            "  inflating: /content/drive/My Drive/deepfake_project/train_sample_videos/bjkmjilrxp.mp4  \n",
            "  inflating: /content/drive/My Drive/deepfake_project/train_sample_videos/bjsmaqefoi.mp4  \n",
            "  inflating: /content/drive/My Drive/deepfake_project/train_sample_videos/bkmdzhfzfh.mp4  \n",
            "  inflating: /content/drive/My Drive/deepfake_project/train_sample_videos/bkvetcojbt.mp4  \n",
            "  inflating: /content/drive/My Drive/deepfake_project/train_sample_videos/bkwxhglwct.mp4  \n",
            "  inflating: /content/drive/My Drive/deepfake_project/train_sample_videos/blpchvmhxx.mp4  \n",
            "  inflating: /content/drive/My Drive/deepfake_project/train_sample_videos/blzydqdfem.mp4  \n",
            "  inflating: /content/drive/My Drive/deepfake_project/train_sample_videos/bmbbkwmxqj.mp4  \n",
            "  inflating: /content/drive/My Drive/deepfake_project/train_sample_videos/bmehkyanbj.mp4  \n",
            "  inflating: /content/drive/My Drive/deepfake_project/train_sample_videos/bmhvktyiwp.mp4  \n",
            "  inflating: /content/drive/My Drive/deepfake_project/train_sample_videos/bmioepcpsx.mp4  \n",
            "  inflating: /content/drive/My Drive/deepfake_project/train_sample_videos/bmjmjmbglm.mp4  \n",
            "  inflating: /content/drive/My Drive/deepfake_project/train_sample_videos/bmjzrlszhi.mp4  \n",
            "  inflating: /content/drive/My Drive/deepfake_project/train_sample_videos/bnbuonyoje.mp4  \n",
            "  inflating: /content/drive/My Drive/deepfake_project/train_sample_videos/bndybcqhfr.mp4  \n",
            "  inflating: /content/drive/My Drive/deepfake_project/train_sample_videos/bnjcdrfuov.mp4  \n",
            "  inflating: /content/drive/My Drive/deepfake_project/train_sample_videos/bntlodcfeg.mp4  \n",
            "  inflating: /content/drive/My Drive/deepfake_project/train_sample_videos/bofqajtwve.mp4  \n",
            "  inflating: /content/drive/My Drive/deepfake_project/train_sample_videos/boovltmuwi.mp4  \n",
            "  inflating: /content/drive/My Drive/deepfake_project/train_sample_videos/bopqhhalml.mp4  \n",
            "  inflating: /content/drive/My Drive/deepfake_project/train_sample_videos/bourlmzsio.mp4  \n",
            "  inflating: /content/drive/My Drive/deepfake_project/train_sample_videos/bpapbctoao.mp4  \n",
            "  inflating: /content/drive/My Drive/deepfake_project/train_sample_videos/bpwzipqtxf.mp4  \n",
            "  inflating: /content/drive/My Drive/deepfake_project/train_sample_videos/bpxckdzddv.mp4  \n",
            "  inflating: /content/drive/My Drive/deepfake_project/train_sample_videos/bqdjzqhcft.mp4  \n",
            "  inflating: /content/drive/My Drive/deepfake_project/train_sample_videos/bqeiblbxtl.mp4  \n",
            "  inflating: /content/drive/My Drive/deepfake_project/train_sample_videos/bqhtpqmmqp.mp4  \n",
            "  inflating: /content/drive/My Drive/deepfake_project/train_sample_videos/bqkdbcqjvb.mp4  \n",
            "  inflating: /content/drive/My Drive/deepfake_project/train_sample_videos/bqnymlsayl.mp4  \n",
            "  inflating: /content/drive/My Drive/deepfake_project/train_sample_videos/bqqpbzjgup.mp4  \n",
            "  inflating: /content/drive/My Drive/deepfake_project/train_sample_videos/bqtuuwzdtr.mp4  \n",
            "  inflating: /content/drive/My Drive/deepfake_project/train_sample_videos/brhalypwoo.mp4  \n",
            "  inflating: /content/drive/My Drive/deepfake_project/train_sample_videos/brvqtabyxj.mp4  \n",
            "  inflating: /content/drive/My Drive/deepfake_project/train_sample_videos/brwrlczjvi.mp4  \n",
            "  inflating: /content/drive/My Drive/deepfake_project/train_sample_videos/bseamdrpbj.mp4  \n",
            "  inflating: /content/drive/My Drive/deepfake_project/train_sample_videos/bsfmwclnqy.mp4  \n",
            "  inflating: /content/drive/My Drive/deepfake_project/train_sample_videos/bsqgziaylx.mp4  \n",
            "  inflating: /content/drive/My Drive/deepfake_project/train_sample_videos/btiysiskpf.mp4  \n",
            "  inflating: /content/drive/My Drive/deepfake_project/train_sample_videos/btjlfpzbdu.mp4  \n",
            "  inflating: /content/drive/My Drive/deepfake_project/train_sample_videos/btjwbtsgln.mp4  \n",
            "  inflating: /content/drive/My Drive/deepfake_project/train_sample_videos/btmsngnqhv.mp4  \n",
            "  inflating: /content/drive/My Drive/deepfake_project/train_sample_videos/btohlidmru.mp4  \n",
            "  inflating: /content/drive/My Drive/deepfake_project/train_sample_videos/btugrnoton.mp4  \n",
            "  inflating: /content/drive/My Drive/deepfake_project/train_sample_videos/btunxncpjh.mp4  \n",
            "  inflating: /content/drive/My Drive/deepfake_project/train_sample_videos/btxlttbpkj.mp4  \n",
            "  inflating: /content/drive/My Drive/deepfake_project/train_sample_videos/bulkxhhknf.mp4  \n",
            "  inflating: /content/drive/My Drive/deepfake_project/train_sample_videos/bvgwelbeof.mp4  \n",
            "  inflating: /content/drive/My Drive/deepfake_project/train_sample_videos/bvzjkezkms.mp4  \n",
            "  inflating: /content/drive/My Drive/deepfake_project/train_sample_videos/bweezhfpzp.mp4  \n",
            "  inflating: /content/drive/My Drive/deepfake_project/train_sample_videos/bwhlgysghg.mp4  \n",
            "  inflating: /content/drive/My Drive/deepfake_project/train_sample_videos/bwipwzzxxu.mp4  \n",
            "  inflating: /content/drive/My Drive/deepfake_project/train_sample_videos/bwuwstvsbw.mp4  \n",
            "  inflating: /content/drive/My Drive/deepfake_project/train_sample_videos/bxzakyopjf.mp4  \n",
            "  inflating: /content/drive/My Drive/deepfake_project/train_sample_videos/bydaidkpdp.mp4  \n",
            "  inflating: /content/drive/My Drive/deepfake_project/train_sample_videos/byfenovjnf.mp4  \n",
            "  inflating: /content/drive/My Drive/deepfake_project/train_sample_videos/byijojkdba.mp4  \n",
            "  inflating: /content/drive/My Drive/deepfake_project/train_sample_videos/byofowlkki.mp4  \n",
            "  inflating: /content/drive/My Drive/deepfake_project/train_sample_videos/byqzyxifza.mp4  \n",
            "  inflating: /content/drive/My Drive/deepfake_project/train_sample_videos/byunigvnay.mp4  \n",
            "  inflating: /content/drive/My Drive/deepfake_project/train_sample_videos/byyqectxqa.mp4  \n",
            "  inflating: /content/drive/My Drive/deepfake_project/train_sample_videos/bzmdrafeex.mp4  \n",
            "  inflating: /content/drive/My Drive/deepfake_project/train_sample_videos/bzythlfnhq.mp4  \n",
            "  inflating: /content/drive/My Drive/deepfake_project/train_sample_videos/caifxvsozs.mp4  \n",
            "  inflating: /content/drive/My Drive/deepfake_project/train_sample_videos/caqbrkogkb.mp4  \n",
            "  inflating: /content/drive/My Drive/deepfake_project/train_sample_videos/cbbibzcoih.mp4  \n",
            "  inflating: /content/drive/My Drive/deepfake_project/train_sample_videos/cbltdtxglo.mp4  \n",
            "  inflating: /content/drive/My Drive/deepfake_project/train_sample_videos/ccfoszqabv.mp4  \n",
            "  inflating: /content/drive/My Drive/deepfake_project/train_sample_videos/ccmonzqfrz.mp4  \n",
            "  inflating: /content/drive/My Drive/deepfake_project/train_sample_videos/cdaxixbosp.mp4  \n",
            "  inflating: /content/drive/My Drive/deepfake_project/train_sample_videos/cdbsbdymzd.mp4  \n",
            "  inflating: /content/drive/My Drive/deepfake_project/train_sample_videos/cdphtzqrvp.mp4  \n",
            "  inflating: /content/drive/My Drive/deepfake_project/train_sample_videos/cdyakrxkia.mp4  \n",
            "  inflating: /content/drive/My Drive/deepfake_project/train_sample_videos/cepxysienc.mp4  \n",
            "  inflating: /content/drive/My Drive/deepfake_project/train_sample_videos/cettndmvzl.mp4  \n",
            "  inflating: /content/drive/My Drive/deepfake_project/train_sample_videos/ceymbecxnj.mp4  \n",
            "  inflating: /content/drive/My Drive/deepfake_project/train_sample_videos/cferslmfwh.mp4  \n",
            "  inflating: /content/drive/My Drive/deepfake_project/train_sample_videos/cffffbcywc.mp4  \n",
            "  inflating: /content/drive/My Drive/deepfake_project/train_sample_videos/cfxkpiweqt.mp4  \n",
            "  inflating: /content/drive/My Drive/deepfake_project/train_sample_videos/cfyduhpbps.mp4  \n",
            "  inflating: /content/drive/My Drive/deepfake_project/train_sample_videos/cglxirfaey.mp4  \n",
            "  inflating: /content/drive/My Drive/deepfake_project/train_sample_videos/cgvrgibpfo.mp4  \n",
            "  inflating: /content/drive/My Drive/deepfake_project/train_sample_videos/chtapglbcj.mp4  \n",
            "  inflating: /content/drive/My Drive/deepfake_project/train_sample_videos/chviwxsfhg.mp4  \n",
            "  inflating: /content/drive/My Drive/deepfake_project/train_sample_videos/chzieimrwu.mp4  \n",
            "  inflating: /content/drive/My Drive/deepfake_project/train_sample_videos/ciyoudyhly.mp4  \n",
            "  inflating: /content/drive/My Drive/deepfake_project/train_sample_videos/cizlkenljw.mp4  \n",
            "  inflating: /content/drive/My Drive/deepfake_project/train_sample_videos/ckbdwedgmc.mp4  \n",
            "  inflating: /content/drive/My Drive/deepfake_project/train_sample_videos/ckjaibzfxa.mp4  \n",
            "  inflating: /content/drive/My Drive/deepfake_project/train_sample_videos/ckkuyewywx.mp4  \n",
            "  inflating: /content/drive/My Drive/deepfake_project/train_sample_videos/cknyxaqouy.mp4  \n",
            "  inflating: /content/drive/My Drive/deepfake_project/train_sample_videos/cksanfsjhc.mp4  \n",
            "  inflating: /content/drive/My Drive/deepfake_project/train_sample_videos/clihsshdkq.mp4  \n",
            "  inflating: /content/drive/My Drive/deepfake_project/train_sample_videos/clrycekyst.mp4  \n",
            "  inflating: /content/drive/My Drive/deepfake_project/train_sample_videos/cmbzllswnl.mp4  \n",
            "  inflating: /content/drive/My Drive/deepfake_project/train_sample_videos/cmxcfkrjiv.mp4  \n",
            "  inflating: /content/drive/My Drive/deepfake_project/train_sample_videos/cnilkgvfei.mp4  \n",
            "  inflating: /content/drive/My Drive/deepfake_project/train_sample_videos/coadfnerlk.mp4  \n",
            "  inflating: /content/drive/My Drive/deepfake_project/train_sample_videos/cobjrlugvp.mp4  \n",
            "  inflating: /content/drive/My Drive/deepfake_project/train_sample_videos/covdcysmbi.mp4  \n",
            "  inflating: /content/drive/My Drive/deepfake_project/train_sample_videos/cpjxareypw.mp4  \n",
            "  inflating: /content/drive/My Drive/deepfake_project/train_sample_videos/cppdvdejkc.mp4  \n",
            "  inflating: /content/drive/My Drive/deepfake_project/train_sample_videos/cprhtltsjp.mp4  \n",
            "  inflating: /content/drive/My Drive/deepfake_project/train_sample_videos/cqfugiqupm.mp4  \n",
            "  inflating: /content/drive/My Drive/deepfake_project/train_sample_videos/cqhngvpgyi.mp4  \n",
            "  inflating: /content/drive/My Drive/deepfake_project/train_sample_videos/cqrskwiqng.mp4  \n",
            "  inflating: /content/drive/My Drive/deepfake_project/train_sample_videos/crezycjqyk.mp4  \n",
            "  inflating: /content/drive/My Drive/deepfake_project/train_sample_videos/crktehraph.mp4  \n",
            "  inflating: /content/drive/My Drive/deepfake_project/train_sample_videos/crzfebnfgb.mp4  \n",
            "  inflating: /content/drive/My Drive/deepfake_project/train_sample_videos/cthdnahrkh.mp4  \n",
            "  inflating: /content/drive/My Drive/deepfake_project/train_sample_videos/ctpqeykqdp.mp4  \n",
            "  inflating: /content/drive/My Drive/deepfake_project/train_sample_videos/cttqtsjvgn.mp4  \n",
            "  inflating: /content/drive/My Drive/deepfake_project/train_sample_videos/ctzmavwror.mp4  \n",
            "  inflating: /content/drive/My Drive/deepfake_project/train_sample_videos/curpwogllm.mp4  \n",
            "  inflating: /content/drive/My Drive/deepfake_project/train_sample_videos/cuzrgrbvil.mp4  \n",
            "  inflating: /content/drive/My Drive/deepfake_project/train_sample_videos/cvaksbpssm.mp4  \n",
            "  inflating: /content/drive/My Drive/deepfake_project/train_sample_videos/cwbacdwrzo.mp4  \n",
            "  inflating: /content/drive/My Drive/deepfake_project/train_sample_videos/cwqlvzefpg.mp4  \n",
            "  inflating: /content/drive/My Drive/deepfake_project/train_sample_videos/cwrtyzndpx.mp4  \n",
            "  inflating: /content/drive/My Drive/deepfake_project/train_sample_videos/cwsbspfzck.mp4  \n",
            "  inflating: /content/drive/My Drive/deepfake_project/train_sample_videos/cwwandrkus.mp4  \n",
            "  inflating: /content/drive/My Drive/deepfake_project/train_sample_videos/cxfujlvsuw.mp4  \n",
            "  inflating: /content/drive/My Drive/deepfake_project/train_sample_videos/cxrfacemmq.mp4  \n",
            "  inflating: /content/drive/My Drive/deepfake_project/train_sample_videos/cxttmymlbn.mp4  \n",
            "  inflating: /content/drive/My Drive/deepfake_project/train_sample_videos/cyboodqqyr.mp4  \n",
            "  inflating: /content/drive/My Drive/deepfake_project/train_sample_videos/cycacemkmt.mp4  \n",
            "  inflating: /content/drive/My Drive/deepfake_project/train_sample_videos/cyclgfjdrv.mp4  \n",
            "  inflating: /content/drive/My Drive/deepfake_project/train_sample_videos/cyxlcuyznd.mp4  \n",
            "  inflating: /content/drive/My Drive/deepfake_project/train_sample_videos/czfunozvwp.mp4  \n",
            "  inflating: /content/drive/My Drive/deepfake_project/train_sample_videos/czkdanyadc.mp4  \n",
            "  inflating: /content/drive/My Drive/deepfake_project/train_sample_videos/czmqpxrqoh.mp4  \n",
            "  inflating: /content/drive/My Drive/deepfake_project/train_sample_videos/dafhtipaml.mp4  \n",
            "  inflating: /content/drive/My Drive/deepfake_project/train_sample_videos/dakiztgtnw.mp4  \n",
            "  inflating: /content/drive/My Drive/deepfake_project/train_sample_videos/dakqwktlbi.mp4  \n",
            "  inflating: /content/drive/My Drive/deepfake_project/train_sample_videos/dbhoxkblzx.mp4  \n",
            "  inflating: /content/drive/My Drive/deepfake_project/train_sample_videos/dbhrpizyeq.mp4  \n",
            "  inflating: /content/drive/My Drive/deepfake_project/train_sample_videos/dbnygxtwek.mp4  \n",
            "  inflating: /content/drive/My Drive/deepfake_project/train_sample_videos/dboxtiehng.mp4  \n",
            "  inflating: /content/drive/My Drive/deepfake_project/train_sample_videos/dbtbbhakdv.mp4  \n",
            "  inflating: /content/drive/My Drive/deepfake_project/train_sample_videos/dbzcqmxzaj.mp4  \n",
            "  inflating: /content/drive/My Drive/deepfake_project/train_sample_videos/dbzpcjntve.mp4  \n",
            "  inflating: /content/drive/My Drive/deepfake_project/train_sample_videos/dcamvmuors.mp4  \n",
            "  inflating: /content/drive/My Drive/deepfake_project/train_sample_videos/dcuiiorugd.mp4  \n",
            "  inflating: /content/drive/My Drive/deepfake_project/train_sample_videos/ddepeddixj.mp4  \n",
            "  inflating: /content/drive/My Drive/deepfake_project/train_sample_videos/ddhfabwpuz.mp4  \n",
            "  inflating: /content/drive/My Drive/deepfake_project/train_sample_videos/ddjggcasdw.mp4  \n",
            "  inflating: /content/drive/My Drive/deepfake_project/train_sample_videos/ddpvuimigj.mp4  \n",
            "  inflating: /content/drive/My Drive/deepfake_project/train_sample_videos/ddqccgmtka.mp4  \n",
            "  inflating: /content/drive/My Drive/deepfake_project/train_sample_videos/degpbqvcay.mp4  \n",
            "  inflating: /content/drive/My Drive/deepfake_project/train_sample_videos/deywhkarol.mp4  \n",
            "  inflating: /content/drive/My Drive/deepfake_project/train_sample_videos/deyyistcrd.mp4  \n",
            "  inflating: /content/drive/My Drive/deepfake_project/train_sample_videos/dfbpceeaox.mp4  \n",
            "  inflating: /content/drive/My Drive/deepfake_project/train_sample_videos/dgmevclvzy.mp4  \n",
            "  inflating: /content/drive/My Drive/deepfake_project/train_sample_videos/dgxrqjdomn.mp4  \n",
            "  inflating: /content/drive/My Drive/deepfake_project/train_sample_videos/dgzklxjmix.mp4  \n",
            "  inflating: /content/drive/My Drive/deepfake_project/train_sample_videos/dhcndnuwta.mp4  \n",
            "  inflating: /content/drive/My Drive/deepfake_project/train_sample_videos/dhcselezer.mp4  \n",
            "  inflating: /content/drive/My Drive/deepfake_project/train_sample_videos/dhevettufk.mp4  \n",
            "  inflating: /content/drive/My Drive/deepfake_project/train_sample_videos/dhjmzhrcav.mp4  \n",
            "  inflating: /content/drive/My Drive/deepfake_project/train_sample_videos/dhkwmjxwrn.mp4  \n",
            "  inflating: /content/drive/My Drive/deepfake_project/train_sample_videos/dhoqofwoxa.mp4  \n",
            "  inflating: /content/drive/My Drive/deepfake_project/train_sample_videos/dhxctgyoqj.mp4  \n",
            "  inflating: /content/drive/My Drive/deepfake_project/train_sample_videos/diomeixhrg.mp4  \n",
            "  inflating: /content/drive/My Drive/deepfake_project/train_sample_videos/diopzaywor.mp4  \n",
            "  inflating: /content/drive/My Drive/deepfake_project/train_sample_videos/diqraixiov.mp4  \n",
            "  inflating: /content/drive/My Drive/deepfake_project/train_sample_videos/diuzrpqjli.mp4  \n",
            "  inflating: /content/drive/My Drive/deepfake_project/train_sample_videos/djvtbgwdcc.mp4  \n",
            "  inflating: /content/drive/My Drive/deepfake_project/train_sample_videos/djvutyvaio.mp4  \n",
            "  inflating: /content/drive/My Drive/deepfake_project/train_sample_videos/djxdyjopjd.mp4  \n",
            "  inflating: /content/drive/My Drive/deepfake_project/train_sample_videos/dkdwxmtpuo.mp4  \n",
            "  inflating: /content/drive/My Drive/deepfake_project/train_sample_videos/dkhlttuvmx.mp4  \n",
            "  inflating: /content/drive/My Drive/deepfake_project/train_sample_videos/dkrvorliqc.mp4  \n",
            "  inflating: /content/drive/My Drive/deepfake_project/train_sample_videos/dkuayagnmc.mp4  \n",
            "  inflating: /content/drive/My Drive/deepfake_project/train_sample_videos/dkwjwbwgey.mp4  \n",
            "  inflating: /content/drive/My Drive/deepfake_project/train_sample_videos/dkzvdrzcnr.mp4  \n",
            "  inflating: /content/drive/My Drive/deepfake_project/train_sample_videos/dlpoieqvfb.mp4  \n",
            "  inflating: /content/drive/My Drive/deepfake_project/train_sample_videos/dlrsbscitn.mp4  \n",
            "  inflating: /content/drive/My Drive/deepfake_project/train_sample_videos/dnexlwbcxq.mp4  \n",
            "  inflating: /content/drive/My Drive/deepfake_project/train_sample_videos/dnhvalzvrt.mp4  \n",
            "  inflating: /content/drive/My Drive/deepfake_project/train_sample_videos/dntkzzzcdh.mp4  \n",
            "  inflating: /content/drive/My Drive/deepfake_project/train_sample_videos/dnyvfblxpm.mp4  \n",
            "  inflating: /content/drive/My Drive/deepfake_project/train_sample_videos/doanjploai.mp4  \n",
            "  inflating: /content/drive/My Drive/deepfake_project/train_sample_videos/dofusvhnib.mp4  \n",
            "  inflating: /content/drive/My Drive/deepfake_project/train_sample_videos/dozyddhild.mp4  \n",
            "  inflating: /content/drive/My Drive/deepfake_project/train_sample_videos/dptbnjnkdg.mp4  \n",
            "  inflating: /content/drive/My Drive/deepfake_project/train_sample_videos/dptrzdvwpg.mp4  \n",
            "  inflating: /content/drive/My Drive/deepfake_project/train_sample_videos/dqnyszdong.mp4  \n",
            "  inflating: /content/drive/My Drive/deepfake_project/train_sample_videos/dqppxmoqdl.mp4  \n",
            "  inflating: /content/drive/My Drive/deepfake_project/train_sample_videos/dqqtjcryjv.mp4  \n",
            "  inflating: /content/drive/My Drive/deepfake_project/train_sample_videos/dqswpjoepo.mp4  \n",
            "  inflating: /content/drive/My Drive/deepfake_project/train_sample_videos/dqzreruvje.mp4  \n",
            "  inflating: /content/drive/My Drive/deepfake_project/train_sample_videos/drcyabprvt.mp4  \n",
            "  inflating: /content/drive/My Drive/deepfake_project/train_sample_videos/drgjzlxzxj.mp4  \n",
            "  inflating: /content/drive/My Drive/deepfake_project/train_sample_videos/drsakwyvqv.mp4  \n",
            "  inflating: /content/drive/My Drive/deepfake_project/train_sample_videos/drtbksnpol.mp4  \n",
            "  inflating: /content/drive/My Drive/deepfake_project/train_sample_videos/dsdoseflas.mp4  \n",
            "  inflating: /content/drive/My Drive/deepfake_project/train_sample_videos/dsgpbgsrdm.mp4  \n",
            "  inflating: /content/drive/My Drive/deepfake_project/train_sample_videos/dsjbknkujw.mp4  \n",
            "  inflating: /content/drive/My Drive/deepfake_project/train_sample_videos/dsndhujjjb.mp4  \n",
            "  inflating: /content/drive/My Drive/deepfake_project/train_sample_videos/dtbpmdqvao.mp4  \n",
            "  inflating: /content/drive/My Drive/deepfake_project/train_sample_videos/dtocdfbwca.mp4  \n",
            "  inflating: /content/drive/My Drive/deepfake_project/train_sample_videos/dubiroskqn.mp4  \n",
            "  inflating: /content/drive/My Drive/deepfake_project/train_sample_videos/dulanfulol.mp4  \n",
            "  inflating: /content/drive/My Drive/deepfake_project/train_sample_videos/duvyaxbzvp.mp4  \n",
            "  inflating: /content/drive/My Drive/deepfake_project/train_sample_videos/duycddgtrl.mp4  \n",
            "  inflating: /content/drive/My Drive/deepfake_project/train_sample_videos/duzuusuajr.mp4  \n",
            "  inflating: /content/drive/My Drive/deepfake_project/train_sample_videos/dvakowbgbt.mp4  \n",
            "  inflating: /content/drive/My Drive/deepfake_project/train_sample_videos/dvumqqhoac.mp4  \n",
            "  inflating: /content/drive/My Drive/deepfake_project/train_sample_videos/dwediigjit.mp4  \n",
            "  inflating: /content/drive/My Drive/deepfake_project/train_sample_videos/dxbqjxrhin.mp4  \n",
            "  inflating: /content/drive/My Drive/deepfake_project/train_sample_videos/dxuliowugt.mp4  \n",
            "  inflating: /content/drive/My Drive/deepfake_project/train_sample_videos/dxuplhwvig.mp4  \n",
            "  inflating: /content/drive/My Drive/deepfake_project/train_sample_videos/dzieklokdr.mp4  \n",
            "  inflating: /content/drive/My Drive/deepfake_project/train_sample_videos/dzqwgqewhu.mp4  \n",
            "  inflating: /content/drive/My Drive/deepfake_project/train_sample_videos/dzvyfiarrq.mp4  \n",
            "  inflating: /content/drive/My Drive/deepfake_project/train_sample_videos/dzwkmcwkwl.mp4  \n",
            "  inflating: /content/drive/My Drive/deepfake_project/train_sample_videos/dzyuwjkjui.mp4  \n",
            "  inflating: /content/drive/My Drive/deepfake_project/train_sample_videos/eahlqmfvtj.mp4  \n",
            "  inflating: /content/drive/My Drive/deepfake_project/train_sample_videos/eajlrktemq.mp4  \n",
            "  inflating: /content/drive/My Drive/deepfake_project/train_sample_videos/ebchwmwayp.mp4  \n",
            "  inflating: /content/drive/My Drive/deepfake_project/train_sample_videos/ebebgmtlcu.mp4  \n",
            "  inflating: /content/drive/My Drive/deepfake_project/train_sample_videos/ebeknhudxq.mp4  \n",
            "  inflating: /content/drive/My Drive/deepfake_project/train_sample_videos/ebkzwjgjhq.mp4  \n",
            "  inflating: /content/drive/My Drive/deepfake_project/train_sample_videos/ebywfrmhtd.mp4  \n",
            "  inflating: /content/drive/My Drive/deepfake_project/train_sample_videos/eckvhdusax.mp4  \n",
            "  inflating: /content/drive/My Drive/deepfake_project/train_sample_videos/ecnihjlfyt.mp4  \n",
            "  inflating: /content/drive/My Drive/deepfake_project/train_sample_videos/ecujsjhscd.mp4  \n",
            "  inflating: /content/drive/My Drive/deepfake_project/train_sample_videos/ecuvtoltue.mp4  \n",
            "  inflating: /content/drive/My Drive/deepfake_project/train_sample_videos/ecwaxgutkc.mp4  \n",
            "  inflating: /content/drive/My Drive/deepfake_project/train_sample_videos/eczrseixwq.mp4  \n",
            "  inflating: /content/drive/My Drive/deepfake_project/train_sample_videos/edyncaijwx.mp4  \n",
            "  inflating: /content/drive/My Drive/deepfake_project/train_sample_videos/eebrkicpry.mp4  \n",
            "  inflating: /content/drive/My Drive/deepfake_project/train_sample_videos/eebserckhh.mp4  \n",
            "  inflating: /content/drive/My Drive/deepfake_project/train_sample_videos/eejswgycjc.mp4  \n",
            "  inflating: /content/drive/My Drive/deepfake_project/train_sample_videos/eekozbeafq.mp4  \n",
            "  inflating: /content/drive/My Drive/deepfake_project/train_sample_videos/eepezmygaq.mp4  \n",
            "  inflating: /content/drive/My Drive/deepfake_project/train_sample_videos/eeyhxisdfh.mp4  \n",
            "  inflating: /content/drive/My Drive/deepfake_project/train_sample_videos/efdyrflcpg.mp4  \n",
            "  inflating: /content/drive/My Drive/deepfake_project/train_sample_videos/efwfxwwlbw.mp4  \n",
            "  inflating: /content/drive/My Drive/deepfake_project/train_sample_videos/egbbcxcuqy.mp4  \n",
            "  inflating: /content/drive/My Drive/deepfake_project/train_sample_videos/eggbjzxnmg.mp4  \n",
            "  inflating: /content/drive/My Drive/deepfake_project/train_sample_videos/egghxjjmfg.mp4  \n",
            "  inflating: /content/drive/My Drive/deepfake_project/train_sample_videos/ehbnclaukr.mp4  \n",
            "  inflating: /content/drive/My Drive/deepfake_project/train_sample_videos/ehccixxzoe.mp4  \n",
            "  inflating: /content/drive/My Drive/deepfake_project/train_sample_videos/ehdkmxgtxh.mp4  \n",
            "  inflating: /content/drive/My Drive/deepfake_project/train_sample_videos/ehevsxtecd.mp4  \n",
            "  inflating: /content/drive/My Drive/deepfake_project/train_sample_videos/ehfiekigla.mp4  \n",
            "  inflating: /content/drive/My Drive/deepfake_project/train_sample_videos/ehieahnhte.mp4  \n",
            "  inflating: /content/drive/My Drive/deepfake_project/train_sample_videos/ehtdtkmmli.mp4  \n",
            "  inflating: /content/drive/My Drive/deepfake_project/train_sample_videos/eiriyukqqy.mp4  \n",
            "  inflating: /content/drive/My Drive/deepfake_project/train_sample_videos/eivxffliio.mp4  \n",
            "  inflating: /content/drive/My Drive/deepfake_project/train_sample_videos/eiwopxzjfn.mp4  \n",
            "  inflating: /content/drive/My Drive/deepfake_project/train_sample_videos/eixwxvxbbn.mp4  \n",
            "  inflating: /content/drive/My Drive/deepfake_project/train_sample_videos/ejkqesyvam.mp4  \n",
            "  inflating: /content/drive/My Drive/deepfake_project/train_sample_videos/ekcrtigpab.mp4  \n",
            "  inflating: /content/drive/My Drive/deepfake_project/train_sample_videos/ekhacizpah.mp4  \n",
            "  inflating: /content/drive/My Drive/deepfake_project/train_sample_videos/ekkdjkirzq.mp4  \n",
            "  inflating: /content/drive/My Drive/deepfake_project/train_sample_videos/elginszwtk.mp4  \n",
            "  inflating: /content/drive/My Drive/deepfake_project/train_sample_videos/ellavthztb.mp4  \n",
            "  inflating: /content/drive/My Drive/deepfake_project/train_sample_videos/elvvackpjh.mp4  \n",
            "  inflating: /content/drive/My Drive/deepfake_project/train_sample_videos/emaalmsonj.mp4  \n",
            "  inflating: /content/drive/My Drive/deepfake_project/train_sample_videos/emfbhytfhc.mp4  \n",
            "  inflating: /content/drive/My Drive/deepfake_project/train_sample_videos/emgjphonqb.mp4  \n",
            "  inflating: /content/drive/My Drive/deepfake_project/train_sample_videos/ensyyivobf.mp4  \n",
            "  inflating: /content/drive/My Drive/deepfake_project/train_sample_videos/eoewqcpbgt.mp4  \n",
            "  inflating: /content/drive/My Drive/deepfake_project/train_sample_videos/eprybmbpba.mp4  \n",
            "  inflating: /content/drive/My Drive/deepfake_project/train_sample_videos/epymyyiblu.mp4  \n",
            "  inflating: /content/drive/My Drive/deepfake_project/train_sample_videos/eqjscdagiv.mp4  \n",
            "  inflating: /content/drive/My Drive/deepfake_project/train_sample_videos/eqnoqyfquo.mp4  \n",
            "  inflating: /content/drive/My Drive/deepfake_project/train_sample_videos/eqvuznuwsa.mp4  \n",
            "  inflating: /content/drive/My Drive/deepfake_project/train_sample_videos/erlvuvjsjf.mp4  \n",
            "  inflating: /content/drive/My Drive/deepfake_project/train_sample_videos/erqgqacbqe.mp4  \n",
            "  inflating: /content/drive/My Drive/deepfake_project/train_sample_videos/errocgcham.mp4  \n",
            "  inflating: /content/drive/My Drive/deepfake_project/train_sample_videos/esckbnkkvb.mp4  \n",
            "  inflating: /content/drive/My Drive/deepfake_project/train_sample_videos/esgftaficx.mp4  \n",
            "  inflating: /content/drive/My Drive/deepfake_project/train_sample_videos/esnntzzajv.mp4  \n",
            "  inflating: /content/drive/My Drive/deepfake_project/train_sample_videos/esxrvsgpvb.mp4  \n",
            "  inflating: /content/drive/My Drive/deepfake_project/train_sample_videos/esyhwdfnxs.mp4  \n",
            "  inflating: /content/drive/My Drive/deepfake_project/train_sample_videos/esyrimvzsa.mp4  \n",
            "  inflating: /content/drive/My Drive/deepfake_project/train_sample_videos/etdcqxabww.mp4  \n",
            "  inflating: /content/drive/My Drive/deepfake_project/train_sample_videos/etejaapnxh.mp4  \n",
            "  inflating: /content/drive/My Drive/deepfake_project/train_sample_videos/etmcruaihe.mp4  \n",
            "  inflating: /content/drive/My Drive/deepfake_project/train_sample_videos/etohcvnzbj.mp4  \n",
            "  inflating: /content/drive/My Drive/deepfake_project/train_sample_videos/eudeqjhdfd.mp4  \n",
            "  inflating: /content/drive/My Drive/deepfake_project/train_sample_videos/eukvucdetx.mp4  \n",
            "  inflating: /content/drive/My Drive/deepfake_project/train_sample_videos/metadata.json  \n"
          ]
        }
      ],
      "source": [
        "!unzip -o deepfake-detection-challenge.zip -d \"/content/drive/My Drive/deepfake_project\"\n"
      ]
    },
    {
      "cell_type": "markdown",
      "metadata": {
        "id": "A0IC7JwGcVeA"
      },
      "source": [
        "# Organize Dataset"
      ]
    },
    {
      "cell_type": "code",
      "execution_count": null,
      "metadata": {
        "colab": {
          "base_uri": "https://localhost:8080/"
        },
        "id": "31EeCbypjMMC",
        "outputId": "9853c2f5-cd88-4438-e190-af018a3891bb"
      },
      "outputs": [
        {
          "output_type": "stream",
          "name": "stdout",
          "text": [
            "Dataset directory exists: True\n",
            "Metadata file exists: True\n",
            "Dataset contents: ['aagfhgtpmv.mp4', 'aapnvogymq.mp4', 'abarnvbtwb.mp4', 'abqwwspghj.mp4', 'acifjvzvpm.mp4', 'acqfdwsrhi.mp4', 'acxnxvbsxk.mp4', 'abofeumbvv.mp4', 'adylbeequz.mp4', 'acxwigylke.mp4', 'adhsbajydo.mp4', 'adohikbdaz.mp4', 'aczrgyricp.mp4', 'aelzhcnwgf.mp4', 'aettqgevhz.mp4', 'aevrfsexku.mp4', 'afoovlsmtx.mp4', 'aelfnikyqj.mp4', 'agdkmztvby.mp4', 'agqphdxmwt.mp4', 'agrmhtjdlk.mp4', 'ahbweevwpv.mp4', 'aipfdnwpoo.mp4', 'ahdbuwqxit.mp4', 'ahqqqilsxt.mp4', 'ahfazfbntc.mp4', 'ajwpjhrbcv.mp4', 'aknbdpmgua.mp4', 'aknmpoonls.mp4', 'ajqslcypsw.mp4', 'aklqzsddfl.mp4', 'aladcziidp.mp4', 'akzbnazxtz.mp4', 'akvmwkdyuv.mp4', 'alaijyygdv.mp4', 'akxoopqjqz.mp4', 'alninxcyhg.mp4', 'altziddtxi.mp4', 'amowujxmzc.mp4', 'andaxzscny.mp4', 'amaivqofda.mp4', 'alvgwypubw.mp4', 'aorjvbyxhw.mp4', 'anpuvshzoo.mp4', 'aneclqfpbt.mp4', 'arlmiizoob.mp4', 'apogckdfrz.mp4', 'aqpnvjhuzw.mp4', 'apgjqzkoma.mp4', 'arkroixhey.mp4', 'apatcsqejh.mp4', 'asdpeebotb.mp4', 'asvcrfdpnq.mp4', 'asaxgevnnp.mp4', 'arrhsnjqku.mp4', 'aslsvlvpth.mp4', 'asmpfjfzif.mp4', 'atvmxvwyns.mp4', 'atkdltyyen.mp4', 'atxvxouljq.mp4', 'atyntldecu.mp4', 'atzdznmder.mp4', 'aufmsmnoye.mp4', 'avgiuextiz.mp4', 'augtsuxpzc.mp4', 'avfitoutyn.mp4', 'avibnnhwhp.mp4', 'avssvvsdhz.mp4', 'avtycwsgyb.mp4', 'avvdgsennp.mp4', 'avmjormvsx.mp4', 'avnqydkqjj.mp4', 'axczxisdtb.mp4', 'avywawptfc.mp4', 'awukslzjra.mp4', 'awhmfnnjih.mp4', 'awnwkrqibf.mp4', 'axwovszumc.mp4', 'axwgcsyphv.mp4', 'axoygtekut.mp4', 'axntxmycwd.mp4', 'aybumesmpk.mp4', 'ayqvfdhslr.mp4', 'aytzyidmgs.mp4', 'aybgughjxh.mp4', 'bbhpvrmbse.mp4', 'azsmewqghg.mp4', 'azpuxunqyo.mp4', 'bahdpoesir.mp4', 'bddjdhzfze.mp4', 'bctvsmddgq.mp4', 'bbvgxeczei.mp4', 'bbhtdfuqxq.mp4', 'bdbhekrrwo.mp4', 'bchnbulevv.mp4', 'bdxuhamuqx.mp4', 'bdgipnyobr.mp4', 'bdnaqemxmr.mp4', 'beboztfcme.mp4', 'benmsfzfaz.mp4', 'beyebyhrph.mp4', 'bejhvclboh.mp4', 'bggsurpgpr.mp4', 'bgmlwsoamc.mp4', 'bghphrsfxf.mp4', 'bffwsjxghk.mp4', 'bguwlyazau.mp4', 'bgaogsjehq.mp4', 'bgwmmujlmc.mp4', 'bhaaboftbc.mp4', 'bgvhtpzknn.mp4', 'bhpwpydzpo.mp4', 'bhbdugnurr.mp4', 'bhsluedavd.mp4', 'bjjbwsqjir.mp4', 'bjkmjilrxp.mp4', 'bilnggbxgu.mp4', 'bjsmaqefoi.mp4', 'bkwxhglwct.mp4', 'bmbbkwmxqj.mp4', 'blzydqdfem.mp4', 'blpchvmhxx.mp4', 'bkmdzhfzfh.mp4', 'bkvetcojbt.mp4', 'bmioepcpsx.mp4', 'bmjzrlszhi.mp4', 'bmehkyanbj.mp4', 'bmjmjmbglm.mp4', 'bmhvktyiwp.mp4', 'bnbuonyoje.mp4', 'bntlodcfeg.mp4', 'bofqajtwve.mp4', 'bndybcqhfr.mp4', 'bnjcdrfuov.mp4', 'bourlmzsio.mp4', 'boovltmuwi.mp4', 'bopqhhalml.mp4', 'bpapbctoao.mp4', 'bqeiblbxtl.mp4', 'bqhtpqmmqp.mp4', 'bpxckdzddv.mp4', 'bqkdbcqjvb.mp4', 'bqdjzqhcft.mp4', 'bpwzipqtxf.mp4', 'brvqtabyxj.mp4', 'brhalypwoo.mp4', 'bqnymlsayl.mp4', 'bqqpbzjgup.mp4', 'bqtuuwzdtr.mp4', 'bsqgziaylx.mp4', 'brwrlczjvi.mp4', 'btiysiskpf.mp4', 'bseamdrpbj.mp4', 'bsfmwclnqy.mp4', 'btjwbtsgln.mp4', 'btmsngnqhv.mp4', 'btjlfpzbdu.mp4', 'btugrnoton.mp4', 'btohlidmru.mp4', 'bulkxhhknf.mp4', 'btunxncpjh.mp4', 'btxlttbpkj.mp4', 'bwipwzzxxu.mp4', 'bvgwelbeof.mp4', 'bweezhfpzp.mp4', 'bwhlgysghg.mp4', 'bvzjkezkms.mp4', 'bwuwstvsbw.mp4', 'bydaidkpdp.mp4', 'byfenovjnf.mp4', 'bxzakyopjf.mp4', 'byijojkdba.mp4', 'byofowlkki.mp4', 'byunigvnay.mp4', 'byqzyxifza.mp4', 'bzythlfnhq.mp4', 'caifxvsozs.mp4', 'cbbibzcoih.mp4', 'byyqectxqa.mp4', 'bzmdrafeex.mp4', 'caqbrkogkb.mp4', 'ccmonzqfrz.mp4', 'cbltdtxglo.mp4', 'cdaxixbosp.mp4', 'ccfoszqabv.mp4', 'cdbsbdymzd.mp4', 'cepxysienc.mp4', 'cettndmvzl.mp4', 'cdyakrxkia.mp4', 'cdphtzqrvp.mp4', 'ceymbecxnj.mp4', 'cferslmfwh.mp4', 'cffffbcywc.mp4', 'cfxkpiweqt.mp4', 'cfyduhpbps.mp4', 'chtapglbcj.mp4', 'cgvrgibpfo.mp4', 'chviwxsfhg.mp4', 'cglxirfaey.mp4', 'cizlkenljw.mp4', 'ckkuyewywx.mp4', 'ckbdwedgmc.mp4', 'chzieimrwu.mp4', 'ckjaibzfxa.mp4', 'ciyoudyhly.mp4', 'clrycekyst.mp4', 'cksanfsjhc.mp4', 'cmbzllswnl.mp4', 'clihsshdkq.mp4', 'cknyxaqouy.mp4', 'coadfnerlk.mp4', 'cobjrlugvp.mp4', 'covdcysmbi.mp4', 'cmxcfkrjiv.mp4', 'cnilkgvfei.mp4', 'cpjxareypw.mp4', 'cppdvdejkc.mp4', 'cqhngvpgyi.mp4', 'cqfugiqupm.mp4', 'cprhtltsjp.mp4', 'crktehraph.mp4', 'cqrskwiqng.mp4', 'crzfebnfgb.mp4', 'crezycjqyk.mp4', 'cthdnahrkh.mp4', 'ctzmavwror.mp4', 'cttqtsjvgn.mp4', 'curpwogllm.mp4', 'ctpqeykqdp.mp4', 'cwbacdwrzo.mp4', 'cvaksbpssm.mp4', 'cwqlvzefpg.mp4', 'cuzrgrbvil.mp4', 'cwrtyzndpx.mp4', 'cwwandrkus.mp4', 'cxfujlvsuw.mp4', 'cxrfacemmq.mp4', 'cwsbspfzck.mp4', 'cyclgfjdrv.mp4', 'cyxlcuyznd.mp4', 'cyboodqqyr.mp4', 'cycacemkmt.mp4', 'cxttmymlbn.mp4', 'czfunozvwp.mp4', 'dakqwktlbi.mp4', 'dafhtipaml.mp4', 'czmqpxrqoh.mp4', 'dakiztgtnw.mp4', 'dbhoxkblzx.mp4', 'czkdanyadc.mp4', 'dbzcqmxzaj.mp4', 'dboxtiehng.mp4', 'dbtbbhakdv.mp4', 'dbnygxtwek.mp4', 'dbhrpizyeq.mp4', 'ddhfabwpuz.mp4', 'dcamvmuors.mp4', 'ddepeddixj.mp4', 'dcuiiorugd.mp4', 'dbzpcjntve.mp4', 'ddjggcasdw.mp4', 'ddpvuimigj.mp4', 'ddqccgmtka.mp4', 'deywhkarol.mp4', 'degpbqvcay.mp4', 'dgzklxjmix.mp4', 'dgxrqjdomn.mp4', 'dgmevclvzy.mp4', 'deyyistcrd.mp4', 'dfbpceeaox.mp4', 'dhcndnuwta.mp4', 'dhcselezer.mp4', 'dhjmzhrcav.mp4', 'dhevettufk.mp4', 'dhxctgyoqj.mp4', 'dhoqofwoxa.mp4', 'diopzaywor.mp4', 'diomeixhrg.mp4', 'dhkwmjxwrn.mp4', 'diqraixiov.mp4', 'djvtbgwdcc.mp4', 'djvutyvaio.mp4', 'diuzrpqjli.mp4', 'dkhlttuvmx.mp4', 'djxdyjopjd.mp4', 'dkuayagnmc.mp4', 'dkdwxmtpuo.mp4', 'dkrvorliqc.mp4', 'dlpoieqvfb.mp4', 'dkwjwbwgey.mp4', 'dkzvdrzcnr.mp4', 'dlrsbscitn.mp4', 'dnexlwbcxq.mp4', 'dntkzzzcdh.mp4', 'dnhvalzvrt.mp4', 'dozyddhild.mp4', 'dptbnjnkdg.mp4', 'dnyvfblxpm.mp4', 'dofusvhnib.mp4', 'doanjploai.mp4', 'dptrzdvwpg.mp4', 'dqnyszdong.mp4', 'dqqtjcryjv.mp4', 'dqppxmoqdl.mp4', 'dqswpjoepo.mp4', 'drcyabprvt.mp4', 'dqzreruvje.mp4', 'dsdoseflas.mp4', 'dsgpbgsrdm.mp4', 'drsakwyvqv.mp4', 'drtbksnpol.mp4', 'drgjzlxzxj.mp4', 'dubiroskqn.mp4', 'dulanfulol.mp4', 'dsjbknkujw.mp4', 'dsndhujjjb.mp4', 'dtbpmdqvao.mp4', 'dtocdfbwca.mp4', 'duzuusuajr.mp4', 'dvakowbgbt.mp4', 'duycddgtrl.mp4', 'duvyaxbzvp.mp4', 'dxbqjxrhin.mp4', 'dxuliowugt.mp4', 'dxuplhwvig.mp4', 'dvumqqhoac.mp4', 'dwediigjit.mp4', 'dzyuwjkjui.mp4', 'dzvyfiarrq.mp4', 'dzieklokdr.mp4', 'dzqwgqewhu.mp4', 'dzwkmcwkwl.mp4', 'ebchwmwayp.mp4', 'ebebgmtlcu.mp4', 'ebeknhudxq.mp4', 'eahlqmfvtj.mp4', 'eajlrktemq.mp4', 'ebkzwjgjhq.mp4', 'eckvhdusax.mp4', 'ecuvtoltue.mp4', 'ebywfrmhtd.mp4', 'ecnihjlfyt.mp4', 'ecujsjhscd.mp4', 'eczrseixwq.mp4', 'edyncaijwx.mp4', 'ecwaxgutkc.mp4', 'eebrkicpry.mp4', 'eebserckhh.mp4', 'eepezmygaq.mp4', 'efdyrflcpg.mp4', 'eekozbeafq.mp4', 'efwfxwwlbw.mp4', 'eeyhxisdfh.mp4', 'eejswgycjc.mp4', 'eggbjzxnmg.mp4', 'egbbcxcuqy.mp4', 'egghxjjmfg.mp4', 'ehbnclaukr.mp4', 'ehccixxzoe.mp4', 'ehdkmxgtxh.mp4', 'ehfiekigla.mp4', 'ehieahnhte.mp4', 'ehevsxtecd.mp4', 'ehtdtkmmli.mp4', 'eivxffliio.mp4', 'eiriyukqqy.mp4', 'eixwxvxbbn.mp4', 'eiwopxzjfn.mp4', 'ejkqesyvam.mp4', 'ekkdjkirzq.mp4', 'ekhacizpah.mp4', 'ekcrtigpab.mp4', 'ellavthztb.mp4', 'elvvackpjh.mp4', 'elginszwtk.mp4', 'emfbhytfhc.mp4', 'emaalmsonj.mp4', 'ensyyivobf.mp4', 'eoewqcpbgt.mp4', 'emgjphonqb.mp4', 'eprybmbpba.mp4', 'epymyyiblu.mp4', 'erlvuvjsjf.mp4', 'eqjscdagiv.mp4', 'erqgqacbqe.mp4', 'eqnoqyfquo.mp4', 'eqvuznuwsa.mp4', 'errocgcham.mp4', 'esyhwdfnxs.mp4', 'esckbnkkvb.mp4', 'esyrimvzsa.mp4', 'esgftaficx.mp4', 'esxrvsgpvb.mp4', 'esnntzzajv.mp4', 'etdcqxabww.mp4', 'etejaapnxh.mp4', 'etmcruaihe.mp4', 'etohcvnzbj.mp4', 'eudeqjhdfd.mp4', 'metadata.json', 'eukvucdetx.mp4']\n"
          ]
        }
      ],
      "source": [
        "import os\n",
        "dataset_path = \"/content/drive/My Drive/deepfake_project/train_sample_videos\"\n",
        "metadata_path = os.path.join(dataset_path, \"metadata.json\")\n",
        "\n",
        "print(\"Dataset directory exists:\", os.path.exists(dataset_path))\n",
        "print(\"Metadata file exists:\", os.path.exists(metadata_path))\n",
        "print(\"Dataset contents:\", os.listdir(dataset_path) if os.path.exists(dataset_path) else \"Not Found\")\n"
      ]
    },
    {
      "cell_type": "code",
      "execution_count": null,
      "metadata": {
        "id": "VRZqLFr2cZYt"
      },
      "outputs": [],
      "source": [
        "import os\n",
        "import json\n",
        "import shutil\n",
        "\n",
        "#loading metadata\n",
        "with open(metadata_path, \"r\") as f:\n",
        "    metadata = json.load(f)\n",
        "\n",
        "#gathering real and fake video paths:\n",
        "all_real_videos = [os.path.join(dataset_path, video) for video, info in metadata.items() if info[\"label\"] == \"REAL\"]\n",
        "all_fake_videos = [os.path.join(dataset_path, video) for video, info in metadata.items() if info[\"label\"] == \"FAKE\"]\n",
        "\n",
        "#creating a subset of training, validation, and  testing for each class\n",
        "train_real = all_real_videos[:60]\n",
        "val_real = all_real_videos[60:70]\n",
        "test_real = all_real_videos[70:80]\n",
        "\n",
        "train_fake = all_fake_videos[:60]\n",
        "val_fake = all_fake_videos[60:70]\n",
        "test_fake = all_fake_videos[70:80]\n"
      ]
    },
    {
      "cell_type": "code",
      "execution_count": null,
      "metadata": {
        "colab": {
          "base_uri": "https://localhost:8080/"
        },
        "id": "6IFdGnNC7VUJ",
        "outputId": "dd1755c8-3a6c-46ca-fba3-8d7880575a7d"
      },
      "outputs": [
        {
          "name": "stdout",
          "output_type": "stream",
          "text": [
            "Checking overlap for REAL videos:\n",
            "No overlap between train_real and val_real.\n",
            "No overlap between train_real and test_real.\n",
            "No overlap between val_real and test_real.\n",
            "\n",
            "Checking overlap for FAKE videos:\n",
            "No overlap between train_fake and val_fake.\n",
            "No overlap between train_fake and test_fake.\n",
            "No overlap between val_fake and test_fake.\n"
          ]
        }
      ],
      "source": [
        "def check_overlap(set1, set2, set3, set_name1, set_name2, set_name3):\n",
        "    # Check for overlaps between each pair of sets\n",
        "    overlap1_2 = set(set1) & set(set2)\n",
        "    overlap1_3 = set(set1) & set(set3)\n",
        "    overlap2_3 = set(set2) & set(set3)\n",
        "\n",
        "    # Print results\n",
        "    if overlap1_2:\n",
        "        print(f\"Overlap between {set_name1} and {set_name2}: {overlap1_2}\")\n",
        "    else:\n",
        "        print(f\"No overlap between {set_name1} and {set_name2}.\")\n",
        "\n",
        "    if overlap1_3:\n",
        "        print(f\"Overlap between {set_name1} and {set_name3}: {overlap1_3}\")\n",
        "    else:\n",
        "        print(f\"No overlap between {set_name1} and {set_name3}.\")\n",
        "\n",
        "    if overlap2_3:\n",
        "        print(f\"Overlap between {set_name2} and {set_name3}: {overlap2_3}\")\n",
        "    else:\n",
        "        print(f\"No overlap between {set_name2} and {set_name3}.\")\n",
        "\n",
        "# Check for overlaps between real video sets\n",
        "print(\"Checking overlap for REAL videos:\")\n",
        "check_overlap(train_real, val_real, test_real, \"train_real\", \"val_real\", \"test_real\")\n",
        "\n",
        "# Check for overlaps between fake video sets\n",
        "print(\"\\nChecking overlap for FAKE videos:\")\n",
        "check_overlap(train_fake, val_fake, test_fake, \"train_fake\", \"val_fake\", \"test_fake\")\n"
      ]
    },
    {
      "cell_type": "code",
      "execution_count": null,
      "metadata": {
        "colab": {
          "base_uri": "https://localhost:8080/"
        },
        "id": "NjTR8WNCkyI4",
        "outputId": "c70058f5-2465-4ae6-8053-7a9b942ed1de"
      },
      "outputs": [
        {
          "name": "stdout",
          "output_type": "stream",
          "text": [
            "Training set: 120 videos\n",
            "Validation set: 20 videos\n",
            "Testing set: 17 videos\n"
          ]
        }
      ],
      "source": [
        "# copying subset files to Google Drive\n",
        "for video in train_real + val_real + test_real:\n",
        "    shutil.copy(video, small_real_path)\n",
        "for video in train_fake + val_fake + test_fake:\n",
        "    shutil.copy(video, small_fake_path)\n",
        "\n",
        "print(f\"Training set: {len(train_real) + len(train_fake)} videos\")\n",
        "print(f\"Validation set: {len(val_real) + len(val_fake)} videos\")\n",
        "print(f\"Testing set: {len(test_real) + len(test_fake)} videos\")\n"
      ]
    },
    {
      "cell_type": "markdown",
      "metadata": {
        "id": "Q-fDKY9glU8s"
      },
      "source": [
        "# Preprocessing Videos: Face Detection"
      ]
    },
    {
      "cell_type": "code",
      "execution_count": null,
      "metadata": {
        "colab": {
          "base_uri": "https://localhost:8080/"
        },
        "id": "WTqOJPzUBUjO",
        "outputId": "4bc96302-9f46-417c-dcc4-3d5e07421999"
      },
      "outputs": [
        {
          "output_type": "stream",
          "name": "stdout",
          "text": [
            "Collecting retina-face\n",
            "  Downloading retina_face-0.0.17-py3-none-any.whl.metadata (10 kB)\n",
            "Requirement already satisfied: numpy>=1.14.0 in /usr/local/lib/python3.10/dist-packages (from retina-face) (1.26.4)\n",
            "Requirement already satisfied: gdown>=3.10.1 in /usr/local/lib/python3.10/dist-packages (from retina-face) (5.2.0)\n",
            "Requirement already satisfied: Pillow>=5.2.0 in /usr/local/lib/python3.10/dist-packages (from retina-face) (11.0.0)\n",
            "Requirement already satisfied: opencv-python>=3.4.4 in /usr/local/lib/python3.10/dist-packages (from retina-face) (4.10.0.84)\n",
            "Requirement already satisfied: tensorflow>=1.9.0 in /usr/local/lib/python3.10/dist-packages (from retina-face) (2.17.1)\n",
            "Requirement already satisfied: beautifulsoup4 in /usr/local/lib/python3.10/dist-packages (from gdown>=3.10.1->retina-face) (4.12.3)\n",
            "Requirement already satisfied: filelock in /usr/local/lib/python3.10/dist-packages (from gdown>=3.10.1->retina-face) (3.16.1)\n",
            "Requirement already satisfied: requests[socks] in /usr/local/lib/python3.10/dist-packages (from gdown>=3.10.1->retina-face) (2.32.3)\n",
            "Requirement already satisfied: tqdm in /usr/local/lib/python3.10/dist-packages (from gdown>=3.10.1->retina-face) (4.67.1)\n",
            "Requirement already satisfied: absl-py>=1.0.0 in /usr/local/lib/python3.10/dist-packages (from tensorflow>=1.9.0->retina-face) (1.4.0)\n",
            "Requirement already satisfied: astunparse>=1.6.0 in /usr/local/lib/python3.10/dist-packages (from tensorflow>=1.9.0->retina-face) (1.6.3)\n",
            "Requirement already satisfied: flatbuffers>=24.3.25 in /usr/local/lib/python3.10/dist-packages (from tensorflow>=1.9.0->retina-face) (24.3.25)\n",
            "Requirement already satisfied: gast!=0.5.0,!=0.5.1,!=0.5.2,>=0.2.1 in /usr/local/lib/python3.10/dist-packages (from tensorflow>=1.9.0->retina-face) (0.6.0)\n",
            "Requirement already satisfied: google-pasta>=0.1.1 in /usr/local/lib/python3.10/dist-packages (from tensorflow>=1.9.0->retina-face) (0.2.0)\n",
            "Requirement already satisfied: h5py>=3.10.0 in /usr/local/lib/python3.10/dist-packages (from tensorflow>=1.9.0->retina-face) (3.12.1)\n",
            "Requirement already satisfied: libclang>=13.0.0 in /usr/local/lib/python3.10/dist-packages (from tensorflow>=1.9.0->retina-face) (18.1.1)\n",
            "Requirement already satisfied: ml-dtypes<0.5.0,>=0.3.1 in /usr/local/lib/python3.10/dist-packages (from tensorflow>=1.9.0->retina-face) (0.4.1)\n",
            "Requirement already satisfied: opt-einsum>=2.3.2 in /usr/local/lib/python3.10/dist-packages (from tensorflow>=1.9.0->retina-face) (3.4.0)\n",
            "Requirement already satisfied: packaging in /usr/local/lib/python3.10/dist-packages (from tensorflow>=1.9.0->retina-face) (24.2)\n",
            "Requirement already satisfied: protobuf!=4.21.0,!=4.21.1,!=4.21.2,!=4.21.3,!=4.21.4,!=4.21.5,<5.0.0dev,>=3.20.3 in /usr/local/lib/python3.10/dist-packages (from tensorflow>=1.9.0->retina-face) (4.25.5)\n",
            "Requirement already satisfied: setuptools in /usr/local/lib/python3.10/dist-packages (from tensorflow>=1.9.0->retina-face) (75.1.0)\n",
            "Requirement already satisfied: six>=1.12.0 in /usr/local/lib/python3.10/dist-packages (from tensorflow>=1.9.0->retina-face) (1.17.0)\n",
            "Requirement already satisfied: termcolor>=1.1.0 in /usr/local/lib/python3.10/dist-packages (from tensorflow>=1.9.0->retina-face) (2.5.0)\n",
            "Requirement already satisfied: typing-extensions>=3.6.6 in /usr/local/lib/python3.10/dist-packages (from tensorflow>=1.9.0->retina-face) (4.12.2)\n",
            "Requirement already satisfied: wrapt>=1.11.0 in /usr/local/lib/python3.10/dist-packages (from tensorflow>=1.9.0->retina-face) (1.17.0)\n",
            "Requirement already satisfied: grpcio<2.0,>=1.24.3 in /usr/local/lib/python3.10/dist-packages (from tensorflow>=1.9.0->retina-face) (1.68.1)\n",
            "Requirement already satisfied: tensorboard<2.18,>=2.17 in /usr/local/lib/python3.10/dist-packages (from tensorflow>=1.9.0->retina-face) (2.17.1)\n",
            "Requirement already satisfied: keras>=3.2.0 in /usr/local/lib/python3.10/dist-packages (from tensorflow>=1.9.0->retina-face) (3.5.0)\n",
            "Requirement already satisfied: tensorflow-io-gcs-filesystem>=0.23.1 in /usr/local/lib/python3.10/dist-packages (from tensorflow>=1.9.0->retina-face) (0.37.1)\n",
            "Requirement already satisfied: wheel<1.0,>=0.23.0 in /usr/local/lib/python3.10/dist-packages (from astunparse>=1.6.0->tensorflow>=1.9.0->retina-face) (0.45.1)\n",
            "Requirement already satisfied: rich in /usr/local/lib/python3.10/dist-packages (from keras>=3.2.0->tensorflow>=1.9.0->retina-face) (13.9.4)\n",
            "Requirement already satisfied: namex in /usr/local/lib/python3.10/dist-packages (from keras>=3.2.0->tensorflow>=1.9.0->retina-face) (0.0.8)\n",
            "Requirement already satisfied: optree in /usr/local/lib/python3.10/dist-packages (from keras>=3.2.0->tensorflow>=1.9.0->retina-face) (0.13.1)\n",
            "Requirement already satisfied: charset-normalizer<4,>=2 in /usr/local/lib/python3.10/dist-packages (from requests[socks]->gdown>=3.10.1->retina-face) (3.4.0)\n",
            "Requirement already satisfied: idna<4,>=2.5 in /usr/local/lib/python3.10/dist-packages (from requests[socks]->gdown>=3.10.1->retina-face) (3.10)\n",
            "Requirement already satisfied: urllib3<3,>=1.21.1 in /usr/local/lib/python3.10/dist-packages (from requests[socks]->gdown>=3.10.1->retina-face) (2.2.3)\n",
            "Requirement already satisfied: certifi>=2017.4.17 in /usr/local/lib/python3.10/dist-packages (from requests[socks]->gdown>=3.10.1->retina-face) (2024.12.14)\n",
            "Requirement already satisfied: markdown>=2.6.8 in /usr/local/lib/python3.10/dist-packages (from tensorboard<2.18,>=2.17->tensorflow>=1.9.0->retina-face) (3.7)\n",
            "Requirement already satisfied: tensorboard-data-server<0.8.0,>=0.7.0 in /usr/local/lib/python3.10/dist-packages (from tensorboard<2.18,>=2.17->tensorflow>=1.9.0->retina-face) (0.7.2)\n",
            "Requirement already satisfied: werkzeug>=1.0.1 in /usr/local/lib/python3.10/dist-packages (from tensorboard<2.18,>=2.17->tensorflow>=1.9.0->retina-face) (3.1.3)\n",
            "Requirement already satisfied: soupsieve>1.2 in /usr/local/lib/python3.10/dist-packages (from beautifulsoup4->gdown>=3.10.1->retina-face) (2.6)\n",
            "Requirement already satisfied: PySocks!=1.5.7,>=1.5.6 in /usr/local/lib/python3.10/dist-packages (from requests[socks]->gdown>=3.10.1->retina-face) (1.7.1)\n",
            "Requirement already satisfied: MarkupSafe>=2.1.1 in /usr/local/lib/python3.10/dist-packages (from werkzeug>=1.0.1->tensorboard<2.18,>=2.17->tensorflow>=1.9.0->retina-face) (3.0.2)\n",
            "Requirement already satisfied: markdown-it-py>=2.2.0 in /usr/local/lib/python3.10/dist-packages (from rich->keras>=3.2.0->tensorflow>=1.9.0->retina-face) (3.0.0)\n",
            "Requirement already satisfied: pygments<3.0.0,>=2.13.0 in /usr/local/lib/python3.10/dist-packages (from rich->keras>=3.2.0->tensorflow>=1.9.0->retina-face) (2.18.0)\n",
            "Requirement already satisfied: mdurl~=0.1 in /usr/local/lib/python3.10/dist-packages (from markdown-it-py>=2.2.0->rich->keras>=3.2.0->tensorflow>=1.9.0->retina-face) (0.1.2)\n",
            "Downloading retina_face-0.0.17-py3-none-any.whl (25 kB)\n",
            "Installing collected packages: retina-face\n",
            "Successfully installed retina-face-0.0.17\n"
          ]
        }
      ],
      "source": [
        "pip install retina-face\n"
      ]
    },
    {
      "cell_type": "code",
      "execution_count": null,
      "metadata": {
        "id": "yl0vNva7Bj4_"
      },
      "outputs": [],
      "source": [
        "from retinaface import RetinaFace\n",
        "from skimage.metrics import structural_similarity as ssim\n",
        "import cv2\n",
        "import os\n",
        "import numpy as np\n",
        "from tqdm import tqdm\n"
      ]
    },
    {
      "cell_type": "code",
      "execution_count": null,
      "metadata": {
        "colab": {
          "base_uri": "https://localhost:8080/"
        },
        "id": "0GN1jKQ9BugJ",
        "outputId": "17483521-8d50-438a-c8f7-a23e260d1414"
      },
      "outputs": [
        {
          "output_type": "stream",
          "name": "stderr",
          "text": [
            "\r  0%|          | 0/140 [00:00<?, ?it/s]"
          ]
        },
        {
          "output_type": "stream",
          "name": "stdout",
          "text": [
            "Skipping already processed video: abarnvbtwb\n",
            "Skipping already processed video: aelfnikyqj\n",
            "Skipping already processed video: afoovlsmtx\n",
            "Skipping already processed video: agrmhtjdlk\n",
            "Skipping already processed video: ahqqqilsxt\n",
            "Skipping already processed video: ajqslcypsw\n",
            "Skipping already processed video: anpuvshzoo\n"
          ]
        },
        {
          "output_type": "stream",
          "name": "stderr",
          "text": [
            "100%|██████████| 140/140 [33:29<00:00, 14.36s/it]\n"
          ]
        }
      ],
      "source": [
        "from retinaface import RetinaFace\n",
        "import os\n",
        "import cv2\n",
        "from tqdm import tqdm\n",
        "\n",
        "def extract_largest_face(frame, detector):\n",
        "    \"\"\"Detect and return the largest face in a frame using RetinaFace.\"\"\"\n",
        "    faces = detector.detect_faces(frame)  # Detecting faces in the frame\n",
        "    if not faces:\n",
        "        return None  # no faces detected\n",
        "\n",
        "    #finding the largest face based on area in the case there's more than 1 face\n",
        "    largest_face = max(faces.values(), key=lambda face: (face['facial_area'][2] - face['facial_area'][0]) *\n",
        "                                                       (face['facial_area'][3] - face['facial_area'][1]))\n",
        "    x, y, w, h = largest_face['facial_area']\n",
        "    cropped_face = frame[y:h, x:w]\n",
        "    return cropped_face\n",
        "\n",
        "def extract_frames_with_largest_face(video_path, output_dir, detector, frame_skip=2):\n",
        "    \"\"\"Extract and save frames containing the largest face using RetinaFace.\"\"\"\n",
        "    os.makedirs(output_dir, exist_ok=True)\n",
        "    try:\n",
        "        cap = cv2.VideoCapture(video_path)\n",
        "        frame_count = int(cap.get(cv2.CAP_PROP_FRAME_COUNT))\n",
        "        frame_idx = 0\n",
        "\n",
        "        while frame_idx < frame_count:\n",
        "            ret, frame = cap.read()\n",
        "            if not ret:\n",
        "                break\n",
        "\n",
        "            if frame_idx % frame_skip == 0:\n",
        "                largest_face = extract_largest_face(frame, detector)\n",
        "                if largest_face is not None:\n",
        "                    output_path = os.path.join(output_dir, f\"frame_{frame_idx:04d}.jpg\")\n",
        "                    cv2.imwrite(output_path, largest_face)\n",
        "\n",
        "            frame_idx += 1\n",
        "        cap.release()\n",
        "    except Exception as e:\n",
        "        print(f\"Error processing video {video_path}: {e}\")\n",
        "\n",
        "def process_videos(video_list, output_root, detector):\n",
        "    \"\"\"Process a list of videos to extract frames with the largest face.\"\"\"\n",
        "    for video_path in tqdm(video_list):\n",
        "        video_name = os.path.basename(video_path).split('.')[0]\n",
        "        output_dir = os.path.join(output_root, video_name)\n",
        "\n",
        "        # skip if directory exists and contains processed frames\n",
        "        if os.path.exists(output_dir) and len(os.listdir(output_dir)) > 0:\n",
        "            print(f\"Skipping already processed video: {video_name}\")\n",
        "            continue\n",
        "\n",
        "        # ow, extract frames\n",
        "        extract_frames_with_largest_face(video_path, output_dir, detector)\n",
        "\n",
        "# initialize RetinaFace\n",
        "detector = RetinaFace\n",
        "\n",
        "# Paths to Subset Videos\n",
        "video_list = train_real + train_fake + val_real + val_fake\n",
        "output_root = \"/content/drive/My Drive/deepfake_project/face_crops2\"\n",
        "\n",
        "# process videos\n",
        "process_videos(video_list, output_root, detector)\n"
      ]
    },
    {
      "cell_type": "markdown",
      "metadata": {
        "id": "zFoLpkfwKgaf"
      },
      "source": [
        "# Defining Dataset with Updated Augmentations"
      ]
    },
    {
      "cell_type": "code",
      "execution_count": null,
      "metadata": {
        "colab": {
          "base_uri": "https://localhost:8080/"
        },
        "id": "ZNZdMQI1Ku9G",
        "outputId": "9189499b-1477-401c-9766-e1d647f31e28"
      },
      "outputs": [
        {
          "output_type": "stream",
          "name": "stdout",
          "text": [
            "Requirement already satisfied: albumentations in /usr/local/lib/python3.10/dist-packages (1.4.20)\n",
            "Requirement already satisfied: numpy>=1.24.4 in /usr/local/lib/python3.10/dist-packages (from albumentations) (1.26.4)\n",
            "Requirement already satisfied: scipy>=1.10.0 in /usr/local/lib/python3.10/dist-packages (from albumentations) (1.13.1)\n",
            "Requirement already satisfied: PyYAML in /usr/local/lib/python3.10/dist-packages (from albumentations) (6.0.2)\n",
            "Requirement already satisfied: pydantic>=2.7.0 in /usr/local/lib/python3.10/dist-packages (from albumentations) (2.10.3)\n",
            "Requirement already satisfied: albucore==0.0.19 in /usr/local/lib/python3.10/dist-packages (from albumentations) (0.0.19)\n",
            "Requirement already satisfied: eval-type-backport in /usr/local/lib/python3.10/dist-packages (from albumentations) (0.2.0)\n",
            "Requirement already satisfied: opencv-python-headless>=4.9.0.80 in /usr/local/lib/python3.10/dist-packages (from albumentations) (4.10.0.84)\n",
            "Requirement already satisfied: stringzilla>=3.10.4 in /usr/local/lib/python3.10/dist-packages (from albucore==0.0.19->albumentations) (3.11.1)\n",
            "Requirement already satisfied: annotated-types>=0.6.0 in /usr/local/lib/python3.10/dist-packages (from pydantic>=2.7.0->albumentations) (0.7.0)\n",
            "Requirement already satisfied: pydantic-core==2.27.1 in /usr/local/lib/python3.10/dist-packages (from pydantic>=2.7.0->albumentations) (2.27.1)\n",
            "Requirement already satisfied: typing-extensions>=4.12.2 in /usr/local/lib/python3.10/dist-packages (from pydantic>=2.7.0->albumentations) (4.12.2)\n"
          ]
        }
      ],
      "source": [
        "!pip install albumentations"
      ]
    },
    {
      "cell_type": "code",
      "execution_count": null,
      "metadata": {
        "id": "0SCXx7AI7izI"
      },
      "outputs": [],
      "source": [
        "# Paths to Subset Videos\n",
        "video_list = train_real + train_fake + val_real + val_fake\n",
        "output_root = \"/content/drive/My Drive/deepfake_project/face_crops2\"\n",
        "\n"
      ]
    },
    {
      "cell_type": "code",
      "execution_count": null,
      "metadata": {
        "id": "MMr1rVP2adeX"
      },
      "outputs": [],
      "source": [
        "# Separate Frames Based on Metadata\n",
        "real_crops = []\n",
        "fake_crops = []\n",
        "for video_path in video_list:\n",
        "    video_name = os.path.basename(video_path).split('.')[0]\n",
        "    label = 0 if video_path in train_real + val_real else 1  # 0 for real, 1 for fake\n",
        "    crop_dir = os.path.join(output_root, video_name)\n",
        "\n",
        "    if label == 0:\n",
        "        real_crops.append(crop_dir)\n",
        "    else:\n",
        "        fake_crops.append(crop_dir)\n"
      ]
    },
    {
      "cell_type": "code",
      "execution_count": null,
      "metadata": {
        "id": "EtC4LwudKje6"
      },
      "outputs": [],
      "source": [
        "from albumentations import Compose, ImageCompression, GaussNoise, GaussianBlur, HorizontalFlip, PadIfNeeded, OneOf, RandomBrightnessContrast, FancyPCA, HueSaturationValue, ToGray, ShiftScaleRotate, Normalize\n",
        "from albumentations.pytorch import ToTensorV2\n",
        "import torch\n",
        "from torch.utils.data import Dataset, DataLoader\n",
        "import cv2\n",
        "import os\n"
      ]
    },
    {
      "cell_type": "code",
      "execution_count": null,
      "metadata": {
        "id": "4y646NKIKmJt"
      },
      "outputs": [],
      "source": [
        " from albumentations import Resize\n",
        "def create_train_transforms(size=300):\n",
        "    return Compose([\n",
        "        Resize(size, size),  #  all images are resized to 300x300\n",
        "        ImageCompression(quality_lower=60, quality_upper=100, p=0.3),\n",
        "        GaussNoise(p=0.1),\n",
        "        GaussianBlur(blur_limit=3, p=0.05),\n",
        "        HorizontalFlip(p=0.5),\n",
        "        PadIfNeeded(min_height=size, min_width=size, border_mode=cv2.BORDER_CONSTANT, value=0, p=1),\n",
        "        OneOf([\n",
        "            RandomBrightnessContrast(p=0.5), FancyPCA(p=0.2), HueSaturationValue(p=0.2)\n",
        "        ], p=0.7),\n",
        "        ToGray(p=0.1),\n",
        "        ShiftScaleRotate(shift_limit=0.05, scale_limit=0.1, rotate_limit=5, border_mode=cv2.BORDER_CONSTANT, value=0, p=0.3),\n",
        "        Normalize(mean=(0.485, 0.456, 0.406), std=(0.229, 0.224, 0.225)),\n",
        "        ToTensorV2()\n",
        "    ])\n",
        "\n",
        "def create_val_transforms(size=300):\n",
        "    return Compose([\n",
        "        Resize(size, size),  # all images are resized to 300x300\n",
        "        PadIfNeeded(min_height=size, min_width=size, border_mode=cv2.BORDER_CONSTANT, value=0, p=1),\n",
        "        Normalize(mean=(0.485, 0.456, 0.406), std=(0.229, 0.224, 0.225)),\n",
        "        ToTensorV2()\n",
        "    ])"
      ]
    },
    {
      "cell_type": "code",
      "execution_count": null,
      "metadata": {
        "id": "9fETwG7i5iSq"
      },
      "outputs": [],
      "source": [
        "def cutmix(images, labels, alpha=0.4):\n",
        "    lam = np.random.beta(alpha, alpha)\n",
        "    batch_size = images.size()[0]\n",
        "    rand_index = torch.randperm(batch_size).cuda()\n",
        "    target_a = labels\n",
        "    target_b = labels[rand_index]\n",
        "    bbx1, bby1, bbx2, bby2 = rand_bbox(images.size(), lam)\n",
        "    images[:, :, bbx1:bbx2, bby1:bby2] = images[rand_index, :, bbx1:bbx2, bby1:bby2]\n",
        "    lam = 1 - ((bbx2 - bbx1) * (bby2 - bby1) / (images.size()[-1] * images.size()[-2]))\n",
        "    return images, target_a, target_b, lam\n",
        "\n",
        "def rand_bbox(size, lam):\n",
        "    W = size[2]\n",
        "    H = size[3]\n",
        "    cut_rat = np.sqrt(1.0 - lam)\n",
        "    cut_w = int(W * cut_rat)  # Replace np.int with int\n",
        "    cut_h = int(H * cut_rat)  # Replace np.int with int\n",
        "\n",
        "    cx = np.random.randint(W)\n",
        "    cy = np.random.randint(H)\n",
        "\n",
        "    bbx1 = np.clip(cx - cut_w // 2, 0, W)\n",
        "    bby1 = np.clip(cy - cut_h // 2, 0, H)\n",
        "    bbx2 = np.clip(cx + cut_w // 2, 0, W)\n",
        "    bby2 = np.clip(cy + cut_h // 2, 0, H)\n",
        "\n",
        "    return bbx1, bby1, bbx2, bby2\n",
        "\n"
      ]
    },
    {
      "cell_type": "code",
      "execution_count": null,
      "metadata": {
        "id": "KmPot2tXQWKL"
      },
      "outputs": [],
      "source": [
        "\n",
        "class DeepFakeDataset(torch.utils.data.Dataset):\n",
        "    def __init__(self, root_dirs, labels, transforms=None):\n",
        "        self.paths = []\n",
        "        self.labels = []\n",
        "        self.transforms = transforms\n",
        "\n",
        "        # Gather all frame paths and their labels\n",
        "        for root_dir, label in zip(root_dirs, labels):\n",
        "            if os.path.exists(root_dir):\n",
        "                for frame_path in sorted(os.listdir(root_dir)):\n",
        "                    self.paths.append(os.path.join(root_dir, frame_path))\n",
        "                    self.labels.append(label)\n",
        "\n",
        "    def __len__(self):\n",
        "        return len(self.paths)\n",
        "\n",
        "    def __getitem__(self, idx):\n",
        "        image_path = self.paths[idx]\n",
        "        label = self.labels[idx]\n",
        "\n",
        "        image = cv2.imread(image_path)\n",
        "        if image is None:\n",
        "            raise FileNotFoundError(f\"Image not found: {image_path}\")\n",
        "\n",
        "        image = cv2.cvtColor(image, cv2.COLOR_BGR2RGB)\n",
        "        if self.transforms:\n",
        "            image = self.transforms(image=image)['image']\n",
        "\n",
        "        return image, torch.tensor(label, dtype=torch.float)\n"
      ]
    },
    {
      "cell_type": "code",
      "execution_count": null,
      "metadata": {
        "id": "vcXKi0j7aDz7"
      },
      "outputs": [],
      "source": [
        "# Separate REAL crops for training and validation\n",
        "train_real_crops = real_crops[:len(train_real)]  # Use the first `len(train_real)` for training\n",
        "val_real_crops = real_crops[len(train_real):]    # Use the rest for validation\n",
        "\n",
        "# Separate FAKE crops for training and validation\n",
        "train_fake_crops = fake_crops[:len(train_fake)]  # Use the first `len(train_fake)` for training\n",
        "val_fake_crops = fake_crops[len(train_fake):]    # Use the rest for validation\n",
        "\n",
        "# Combine to create training and validation datasets\n",
        "train_crops = train_real_crops + train_fake_crops\n",
        "train_labels = [0] * len(train_real_crops) + [1] * len(train_fake_crops)\n",
        "\n",
        "val_crops = val_real_crops + val_fake_crops\n",
        "val_labels = [0] * len(val_real_crops) + [1] * len(val_fake_crops)\n"
      ]
    },
    {
      "cell_type": "code",
      "execution_count": null,
      "metadata": {
        "colab": {
          "base_uri": "https://localhost:8080/"
        },
        "id": "UkYeLt3Q8aXK",
        "outputId": "888241f6-ddbd-4a2a-e1f4-923aa0c52c71"
      },
      "outputs": [
        {
          "output_type": "stream",
          "name": "stdout",
          "text": [
            "Training Set: 120 crops, 120 labels\n",
            "Validation Set: 20 crops, 20 labels\n",
            "No overlap between train and validation crops.\n"
          ]
        }
      ],
      "source": [
        "print(f\"Training Set: {len(train_crops)} crops, {len(train_labels)} labels\")\n",
        "print(f\"Validation Set: {len(val_crops)} crops, {len(val_labels)} labels\")\n",
        "\n",
        "# Optional: Check overlap between train and validation crops\n",
        "overlap = set(train_crops) & set(val_crops)\n",
        "if overlap:\n",
        "    print(f\"Overlap detected in train and validation crops: {overlap}\")\n",
        "else:\n",
        "    print(\"No overlap between train and validation crops.\")\n"
      ]
    },
    {
      "cell_type": "code",
      "execution_count": null,
      "metadata": {
        "id": "95IedS8TZRHg"
      },
      "outputs": [],
      "source": [
        "train_transforms = create_train_transforms()\n",
        "val_transforms = create_val_transforms()\n",
        "train_dataset = DeepFakeDataset(root_dirs=train_crops, labels=train_labels, transforms=train_transforms)\n",
        "val_dataset = DeepFakeDataset(root_dirs=val_crops, labels=val_labels, transforms=val_transforms)\n"
      ]
    },
    {
      "cell_type": "code",
      "execution_count": null,
      "metadata": {
        "id": "hJL-vyhAaqTz"
      },
      "outputs": [],
      "source": [
        "# Create DataLoaders\n",
        "train_loader = DataLoader(train_dataset, batch_size=16, shuffle=True)\n",
        "val_loader = DataLoader(val_dataset, batch_size=16, shuffle=False)\n"
      ]
    },
    {
      "cell_type": "markdown",
      "metadata": {
        "id": "oQRxIUEZMYsw"
      },
      "source": [
        "# Training the Model"
      ]
    },
    {
      "cell_type": "code",
      "execution_count": null,
      "metadata": {
        "id": "8tf3_p_3Ma8r"
      },
      "outputs": [],
      "source": [
        "import timm\n",
        "from torch import nn, optim\n"
      ]
    },
    {
      "cell_type": "code",
      "execution_count": null,
      "metadata": {
        "id": "WiccafsrHe5c"
      },
      "outputs": [],
      "source": [
        "from tqdm import tqdm\n",
        "import numpy as np\n",
        "from torch.optim.lr_scheduler import OneCycleLR\n",
        "import torch\n",
        "\n",
        "# Early Stopping Class\n",
        "class EarlyStopping:\n",
        "    def __init__(self, patience=5, min_delta=0):\n",
        "        self.patience = patience\n",
        "        self.min_delta = min_delta\n",
        "        self.counter = 0\n",
        "        self.best_loss = None\n",
        "        self.early_stop = False\n",
        "\n",
        "    def __call__(self, val_loss):\n",
        "        if self.best_loss is None:\n",
        "            self.best_loss = val_loss\n",
        "        elif val_loss > self.best_loss - self.min_delta:\n",
        "            self.counter += 1\n",
        "            if self.counter >= self.patience:\n",
        "                self.early_stop = True\n",
        "        else:\n",
        "            self.best_loss = val_loss\n",
        "            self.counter = 0\n"
      ]
    },
    {
      "cell_type": "code",
      "execution_count": null,
      "metadata": {
        "colab": {
          "base_uri": "https://localhost:8080/"
        },
        "id": "CugGg4JMNBY3",
        "outputId": "559241da-90c4-4161-c327-8ea29e85dea4"
      },
      "outputs": [
        {
          "output_type": "stream",
          "name": "stderr",
          "text": [
            "Epoch 1/15: 100%|██████████| 1130/1130 [05:58<00:00,  3.15batch/s, loss=0.335]\n"
          ]
        },
        {
          "output_type": "stream",
          "name": "stdout",
          "text": [
            "Epoch 1, Train Loss: 0.5669, Train Accuracy: 71.36%\n",
            "Epoch 1, Validation Loss: 0.3244, Validation Accuracy: 87.20%\n"
          ]
        },
        {
          "output_type": "stream",
          "name": "stderr",
          "text": [
            "Epoch 2/15: 100%|██████████| 1130/1130 [05:51<00:00,  3.21batch/s, loss=0.00365]\n"
          ]
        },
        {
          "output_type": "stream",
          "name": "stdout",
          "text": [
            "Epoch 2, Train Loss: 0.1067, Train Accuracy: 96.13%\n",
            "Epoch 2, Validation Loss: 0.5080, Validation Accuracy: 83.83%\n"
          ]
        },
        {
          "output_type": "stream",
          "name": "stderr",
          "text": [
            "Epoch 3/15: 100%|██████████| 1130/1130 [05:58<00:00,  3.15batch/s, loss=0.0177]\n"
          ]
        },
        {
          "output_type": "stream",
          "name": "stdout",
          "text": [
            "Epoch 3, Train Loss: 0.0428, Train Accuracy: 98.57%\n",
            "Epoch 3, Validation Loss: 0.5130, Validation Accuracy: 84.06%\n"
          ]
        },
        {
          "output_type": "stream",
          "name": "stderr",
          "text": [
            "Epoch 4/15: 100%|██████████| 1130/1130 [05:56<00:00,  3.17batch/s, loss=0.018]\n"
          ]
        },
        {
          "output_type": "stream",
          "name": "stdout",
          "text": [
            "Epoch 4, Train Loss: 0.0277, Train Accuracy: 99.09%\n",
            "Epoch 4, Validation Loss: 0.5948, Validation Accuracy: 81.83%\n"
          ]
        },
        {
          "output_type": "stream",
          "name": "stderr",
          "text": [
            "Epoch 5/15: 100%|██████████| 1130/1130 [05:57<00:00,  3.16batch/s, loss=1.77e-5]\n"
          ]
        },
        {
          "output_type": "stream",
          "name": "stdout",
          "text": [
            "Epoch 5, Train Loss: 0.0212, Train Accuracy: 99.17%\n",
            "Epoch 5, Validation Loss: 1.0659, Validation Accuracy: 83.53%\n"
          ]
        },
        {
          "output_type": "stream",
          "name": "stderr",
          "text": [
            "Epoch 6/15: 100%|██████████| 1130/1130 [05:59<00:00,  3.15batch/s, loss=0.0262]\n"
          ]
        },
        {
          "output_type": "stream",
          "name": "stdout",
          "text": [
            "Epoch 6, Train Loss: 0.0167, Train Accuracy: 99.40%\n",
            "Epoch 6, Validation Loss: 0.9326, Validation Accuracy: 75.96%\n"
          ]
        },
        {
          "output_type": "stream",
          "name": "stderr",
          "text": [
            "Epoch 7/15: 100%|██████████| 1130/1130 [05:57<00:00,  3.16batch/s, loss=0.0104]\n"
          ]
        },
        {
          "output_type": "stream",
          "name": "stdout",
          "text": [
            "Epoch 7, Train Loss: 0.0155, Train Accuracy: 99.52%\n",
            "Epoch 7, Validation Loss: 0.5890, Validation Accuracy: 84.36%\n"
          ]
        },
        {
          "output_type": "stream",
          "name": "stderr",
          "text": [
            "Epoch 8/15: 100%|██████████| 1130/1130 [05:54<00:00,  3.19batch/s, loss=0.0174]\n"
          ]
        },
        {
          "output_type": "stream",
          "name": "stdout",
          "text": [
            "Epoch 8, Train Loss: 0.0085, Train Accuracy: 99.67%\n",
            "Epoch 8, Validation Loss: 0.8738, Validation Accuracy: 80.56%\n"
          ]
        },
        {
          "output_type": "stream",
          "name": "stderr",
          "text": [
            "Epoch 9/15: 100%|██████████| 1130/1130 [05:53<00:00,  3.19batch/s, loss=4.67e-5]\n"
          ]
        },
        {
          "output_type": "stream",
          "name": "stdout",
          "text": [
            "Epoch 9, Train Loss: 0.0080, Train Accuracy: 99.73%\n",
            "Epoch 9, Validation Loss: 0.7209, Validation Accuracy: 83.19%\n"
          ]
        },
        {
          "output_type": "stream",
          "name": "stderr",
          "text": [
            "Epoch 10/15: 100%|██████████| 1130/1130 [05:59<00:00,  3.14batch/s, loss=0.000737]\n"
          ]
        },
        {
          "output_type": "stream",
          "name": "stdout",
          "text": [
            "Epoch 10, Train Loss: 0.0059, Train Accuracy: 99.78%\n",
            "Epoch 10, Validation Loss: 0.7600, Validation Accuracy: 83.99%\n"
          ]
        },
        {
          "output_type": "stream",
          "name": "stderr",
          "text": [
            "Epoch 11/15: 100%|██████████| 1130/1130 [05:58<00:00,  3.15batch/s, loss=3.42e-5]\n"
          ]
        },
        {
          "output_type": "stream",
          "name": "stdout",
          "text": [
            "Epoch 11, Train Loss: 0.0029, Train Accuracy: 99.93%\n",
            "Epoch 11, Validation Loss: 0.8095, Validation Accuracy: 83.89%\n"
          ]
        },
        {
          "output_type": "stream",
          "name": "stderr",
          "text": [
            "Epoch 12/15: 100%|██████████| 1130/1130 [06:01<00:00,  3.13batch/s, loss=4.88e-5]\n"
          ]
        },
        {
          "output_type": "stream",
          "name": "stdout",
          "text": [
            "Epoch 12, Train Loss: 0.0024, Train Accuracy: 99.93%\n",
            "Epoch 12, Validation Loss: 0.9774, Validation Accuracy: 82.79%\n"
          ]
        },
        {
          "output_type": "stream",
          "name": "stderr",
          "text": [
            "Epoch 13/15: 100%|██████████| 1130/1130 [05:57<00:00,  3.16batch/s, loss=1.54e-5]\n"
          ]
        },
        {
          "output_type": "stream",
          "name": "stdout",
          "text": [
            "Epoch 13, Train Loss: 0.0020, Train Accuracy: 99.94%\n",
            "Epoch 13, Validation Loss: 0.8529, Validation Accuracy: 83.99%\n"
          ]
        },
        {
          "output_type": "stream",
          "name": "stderr",
          "text": [
            "Epoch 14/15: 100%|██████████| 1130/1130 [05:57<00:00,  3.17batch/s, loss=1.99e-5]\n"
          ]
        },
        {
          "output_type": "stream",
          "name": "stdout",
          "text": [
            "Epoch 14, Train Loss: 0.0016, Train Accuracy: 99.95%\n",
            "Epoch 14, Validation Loss: 0.9607, Validation Accuracy: 83.46%\n"
          ]
        },
        {
          "output_type": "stream",
          "name": "stderr",
          "text": [
            "Epoch 15/15: 100%|██████████| 1130/1130 [05:57<00:00,  3.16batch/s, loss=1.24e-5]\n"
          ]
        },
        {
          "output_type": "stream",
          "name": "stdout",
          "text": [
            "Epoch 15, Train Loss: 0.0022, Train Accuracy: 99.89%\n",
            "Epoch 15, Validation Loss: 0.9032, Validation Accuracy: 84.06%\n"
          ]
        }
      ],
      "source": [
        "import torch\n",
        "import torch.nn as nn\n",
        "import timm\n",
        "from torch.optim.lr_scheduler import OneCycleLR\n",
        "from tqdm import tqdm\n",
        "\n",
        "# Load the model\n",
        "model = timm.create_model('tf_efficientnet_b4_ns', pretrained=True)\n",
        "\n",
        "# Access the in_features of the classifier\n",
        "input_features = model.classifier.in_features\n",
        "\n",
        "# Replace the classifier for binary classification\n",
        "model.classifier = nn.Sequential(\n",
        "    nn.Dropout(p=0.5),  # Add dropout for regularization\n",
        "    nn.Linear(input_features, 1)  # Binary classification: 1 output\n",
        ")\n",
        "\n",
        "# Move the model to GPU\n",
        "model = model.cuda()\n",
        "\n",
        "# Define the optimizer\n",
        "optimizer = torch.optim.AdamW(model.parameters(), lr=1e-4, weight_decay=1e-2)\n",
        "\n",
        "# Define the loss function\n",
        "criterion = nn.BCEWithLogitsLoss()\n",
        "\n",
        "# Define learning rate scheduler\n",
        "scheduler = OneCycleLR(\n",
        "    optimizer,\n",
        "    max_lr=1e-4,  # Maximum learning rate\n",
        "    steps_per_epoch=len(train_loader),\n",
        "    epochs=15\n",
        ")\n",
        "\n",
        "# Training loop\n",
        "for epoch in range(15):\n",
        "    model.train()\n",
        "    train_loss = 0\n",
        "    correct = 0\n",
        "    total = 0\n",
        "\n",
        "    with tqdm(total=len(train_loader), desc=f\"Epoch {epoch+1}/15\", unit=\"batch\") as pbar:\n",
        "        for images, labels in train_loader:\n",
        "            images, labels = images.cuda(), labels.cuda().unsqueeze(1)  # Move data to GPU\n",
        "\n",
        "            # Forward pass\n",
        "            outputs = model(images)\n",
        "            loss = criterion(outputs, labels)\n",
        "\n",
        "            # Backward pass and optimization\n",
        "            optimizer.zero_grad()\n",
        "            loss.backward()\n",
        "            optimizer.step()\n",
        "            scheduler.step()\n",
        "\n",
        "            # Metrics\n",
        "            train_loss += loss.item()\n",
        "            predictions = (torch.sigmoid(outputs) > 0.5).float()\n",
        "            correct += (predictions == labels).sum().item()\n",
        "            total += labels.size(0)\n",
        "\n",
        "            # Update progress bar\n",
        "            pbar.set_postfix(loss=loss.item())\n",
        "            pbar.update(1)\n",
        "\n",
        "    # Epoch summary\n",
        "    train_accuracy = correct / total * 100\n",
        "    print(f\"Epoch {epoch+1}, Train Loss: {train_loss/len(train_loader):.4f}, Train Accuracy: {train_accuracy:.2f}%\")\n",
        "\n",
        "    # Validation loop\n",
        "    model.eval()\n",
        "    val_loss = 0\n",
        "    val_correct = 0\n",
        "    val_total = 0\n",
        "    with torch.no_grad():\n",
        "        for images, labels in val_loader:\n",
        "            images, labels = images.cuda(), labels.cuda().unsqueeze(1)  # Move data to GPU\n",
        "\n",
        "            # Forward pass\n",
        "            outputs = model(images)\n",
        "            loss = criterion(outputs, labels)\n",
        "\n",
        "            # Metrics\n",
        "            val_loss += loss.item()\n",
        "            predictions = (torch.sigmoid(outputs) > 0.5).float()\n",
        "            val_correct += (predictions == labels).sum().item()\n",
        "            val_total += labels.size(0)\n",
        "\n",
        "    val_accuracy = val_correct / val_total * 100\n",
        "    print(f\"Epoch {epoch+1}, Validation Loss: {val_loss/len(val_loader):.4f}, Validation Accuracy: {val_accuracy:.2f}%\")\n"
      ]
    },
    {
      "cell_type": "markdown",
      "metadata": {
        "id": "mATf6EszdSgl"
      },
      "source": [
        "# Saving and Evaluating the Model"
      ]
    },
    {
      "cell_type": "code",
      "execution_count": null,
      "metadata": {
        "id": "UUv5-vAIdVVy"
      },
      "outputs": [],
      "source": [
        "import os\n",
        "import torch\n",
        "checkpoints_dir = \"/content/drive/My Drive/deepfake_project/checkpoints4\"\n",
        "os.makedirs(checkpoints_dir, exist_ok=True)\n",
        "torch.save(model.state_dict(), f\"{checkpoints_dir}/efficientnet_b4.pth\")\n"
      ]
    },
    {
      "cell_type": "code",
      "execution_count": null,
      "metadata": {
        "colab": {
          "base_uri": "https://localhost:8080/"
        },
        "id": "A_ks4cUgdWg7",
        "outputId": "0735d353-17f0-41cb-9909-b0961ff9c67c"
      },
      "outputs": [
        {
          "output_type": "stream",
          "name": "stdout",
          "text": [
            "Evaluation complete.\n"
          ]
        }
      ],
      "source": [
        "import torch\n",
        "import timm\n",
        "\n",
        "# Load the model\n",
        "model = timm.create_model('tf_efficientnet_b4_ns', pretrained=False, num_classes=1)\n",
        "model = model.cuda()\n",
        "\n",
        "# Load the state_dict\n",
        "state_dict = torch.load(f\"{checkpoints_dir}/efficientnet_b4.pth\")\n",
        "\n",
        "# Adjust keys in the state_dict\n",
        "new_state_dict = {}\n",
        "for key, value in state_dict.items():\n",
        "    if key.startswith(\"classifier.1.\"):  # Adjust Sequential layer keys\n",
        "        new_key = key.replace(\"classifier.1.\", \"classifier.\")  # Match the current model's structure\n",
        "    else:\n",
        "        new_key = key\n",
        "    new_state_dict[new_key] = value\n",
        "\n",
        "# Load the adjusted state_dict into the model\n",
        "model.load_state_dict(new_state_dict)\n",
        "\n",
        "# Set the model to evaluation mode\n",
        "model.eval()\n",
        "\n",
        "# Evaluate on the validation set\n",
        "all_labels = []\n",
        "all_preds = []\n",
        "val_loss = 0\n",
        "with torch.no_grad():\n",
        "    for images, labels in val_loader:\n",
        "        images, labels = images.cuda(), labels.cuda()\n",
        "        outputs = model(images)\n",
        "        preds = torch.sigmoid(outputs).cpu().numpy()\n",
        "        all_preds.extend(preds)\n",
        "        all_labels.extend(labels.cpu().numpy())\n",
        "\n",
        "print(\"Evaluation complete.\")\n"
      ]
    },
    {
      "cell_type": "code",
      "execution_count": null,
      "metadata": {
        "id": "5DuXPowak3KR"
      },
      "outputs": [],
      "source": [
        "import numpy as np\n",
        "\n",
        "# Convert predictions and labels to numpy arrays\n",
        "all_preds = np.array(all_preds).ravel()\n",
        "all_labels = np.array(all_labels).ravel()\n"
      ]
    },
    {
      "cell_type": "code",
      "execution_count": null,
      "metadata": {
        "colab": {
          "base_uri": "https://localhost:8080/",
          "height": 540
        },
        "id": "e2f9yYLok5Tq",
        "outputId": "77a0a699-ff55-425c-ef38-f139aabc1a0b"
      },
      "outputs": [
        {
          "output_type": "display_data",
          "data": {
            "text/plain": [
              "<Figure size 800x600 with 2 Axes>"
            ],
            "image/png": "[encoded data removed]"
          },
          "metadata": {}
        }
      ],
      "source": [
        "from sklearn.metrics import confusion_matrix\n",
        "import matplotlib.pyplot as plt\n",
        "import seaborn as sns\n",
        "\n",
        "\n",
        "# Compute Confusion Matrix\n",
        "threshold = 0.5\n",
        "pred_classes = (all_preds >= threshold).astype(int)\n",
        "cm = confusion_matrix(all_labels, pred_classes)\n",
        "\n",
        "# Plot Confusion Matrix\n",
        "plt.figure(figsize=(8, 6))\n",
        "sns.heatmap(cm, annot=True, fmt=\"d\", cmap=\"Blues\", xticklabels=[\"Real\", \"Fake\"], yticklabels=[\"Real\", \"Fake\"])\n",
        "plt.title(\"Confusion Matrix\")\n",
        "plt.xlabel(\"Predicted\")\n",
        "plt.ylabel(\"Actual\")\n",
        "plt.savefig(f\"{checkpoints_dir}/confusion_matrix.png\")\n",
        "plt.show()\n"
      ]
    },
    {
      "cell_type": "code",
      "execution_count": null,
      "metadata": {
        "colab": {
          "base_uri": "https://localhost:8080/"
        },
        "id": "DgQ0ElHrlKiy",
        "outputId": "26434c03-1c76-4fbc-b190-d455389033eb"
      },
      "outputs": [
        {
          "output_type": "stream",
          "name": "stdout",
          "text": [
            "Classification Report:\n",
            "              precision    recall  f1-score   support\n",
            "\n",
            "        Real       0.80      0.91      0.85      1500\n",
            "        Fake       0.89      0.77      0.83      1499\n",
            "\n",
            "    accuracy                           0.84      2999\n",
            "   macro avg       0.85      0.84      0.84      2999\n",
            "weighted avg       0.85      0.84      0.84      2999\n",
            "\n"
          ]
        }
      ],
      "source": [
        "from sklearn.metrics import classification_report\n",
        "\n",
        "# Compute Classification Report\n",
        "report = classification_report(all_labels, pred_classes, target_names=[\"Real\", \"Fake\"], output_dict=True)\n",
        "print(\"Classification Report:\")\n",
        "print(classification_report(all_labels, pred_classes, target_names=[\"Real\", \"Fake\"]))\n",
        "\n",
        "# Save Classification Report\n",
        "with open(f\"{checkpoints_dir}/classification_report.txt\", \"w\") as f:\n",
        "    f.write(classification_report(all_labels, pred_classes, target_names=[\"Real\", \"Fake\"]))\n"
      ]
    },
    {
      "cell_type": "code",
      "execution_count": null,
      "metadata": {
        "id": "yMMOcGQelSKX"
      },
      "outputs": [],
      "source": [
        "from sklearn.metrics import roc_curve, auc # Importing the necessary functions\n",
        "\n",
        "# Compute ROC Curve\n",
        "fpr, tpr, _ = roc_curve(all_labels, all_preds)\n",
        "roc_auc = auc(fpr, tpr)\n"
      ]
    },
    {
      "cell_type": "code",
      "execution_count": null,
      "metadata": {
        "colab": {
          "base_uri": "https://localhost:8080/",
          "height": 515
        },
        "id": "b8CC83eLlZ0H",
        "outputId": "e60f17ed-0083-46c8-f6d6-89ef01a6543c"
      },
      "outputs": [
        {
          "output_type": "display_data",
          "data": {
            "text/plain": [
              "<Figure size 800x600 with 1 Axes>"
            ],
            "image/png": "[encoded data removed]"
          },
          "metadata": {}
        }
      ],
      "source": [
        "# Plot ROC Curve\n",
        "plt.figure(figsize=(8, 6))\n",
        "plt.plot(fpr, tpr, color='blue', lw=2, label=f'ROC Curve (AUC = {roc_auc:.2f})')\n",
        "plt.plot([0, 1], [0, 1], color='gray', lw=2, linestyle='--')\n",
        "plt.title(\"Receiver Operating Characteristic (ROC) Curve\")\n",
        "plt.xlabel(\"False Positive Rate\")\n",
        "plt.ylabel(\"True Positive Rate\")\n",
        "plt.legend(loc=\"lower right\")\n",
        "plt.savefig(f\"{checkpoints_dir}/roc_curve.png\")\n",
        "plt.show()\n"
      ]
    },
    {
      "cell_type": "code",
      "execution_count": null,
      "metadata": {
        "colab": {
          "base_uri": "https://localhost:8080/"
        },
        "id": "75C0-s3VldnB",
        "outputId": "59483ba3-a013-4680-d937-dc356adad6b7"
      },
      "outputs": [
        {
          "output_type": "stream",
          "name": "stdout",
          "text": [
            "Metrics Summary:\n",
            "Accuracy: 0.8406\n",
            "Precision (Fake): 0.8936\n",
            "Recall (Fake): 0.7732\n",
            "F1-Score (Fake): 0.8290\n",
            "ROC AUC: 0.9503\n"
          ]
        }
      ],
      "source": [
        "# Save Metrics Summary\n",
        "metrics_summary = {\n",
        "    \"Accuracy\": report[\"accuracy\"],\n",
        "    \"Precision (Fake)\": report[\"Fake\"][\"precision\"],\n",
        "    \"Recall (Fake)\": report[\"Fake\"][\"recall\"],\n",
        "    \"F1-Score (Fake)\": report[\"Fake\"][\"f1-score\"],\n",
        "    \"ROC AUC\": roc_auc\n",
        "}\n",
        "with open(f\"{checkpoints_dir}/metrics_summary.txt\", \"w\") as f:\n",
        "    for key, value in metrics_summary.items():\n",
        "        f.write(f\"{key}: {value:.4f}\\n\")\n",
        "\n",
        "# Print Summary\n",
        "print(\"Metrics Summary:\")\n",
        "for key, value in metrics_summary.items():\n",
        "    print(f\"{key}: {value:.4f}\")\n"
      ]
    },
    {
      "cell_type": "code",
      "source": [],
      "metadata": {
        "id": "ymIA38J56Wxg"
      },
      "execution_count": null,
      "outputs": []
    }
  ],
  "metadata": {
    "accelerator": "GPU",
    "colab": {
      "gpuType": "A100",
      "machine_shape": "hm",
      "provenance": [],
      "authorship_tag": "ABX9TyMm278KVYD9q12AQnz06hfQ",
      "include_colab_link": true
    },
    "kernelspec": {
      "display_name": "Python 3",
      "name": "python3"
    },
    "language_info": {
      "name": "python"
    }
  },
  "nbformat": 4,
  "nbformat_minor": 0
}